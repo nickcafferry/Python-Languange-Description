{
 "cells": [
  {
   "cell_type": "markdown",
   "metadata": {},
   "source": [
    "# Welcome to Jupyter!"
   ]
  },
  {
   "cell_type": "markdown",
   "metadata": {},
   "source": [
    "# Step 1: Representing Records\n",
    "    Using Lists."
   ]
  },
  {
   "cell_type": "code",
   "execution_count": 1,
   "metadata": {},
   "outputs": [],
   "source": [
    "bob = ['Bob Smith',42,30000,'Software']"
   ]
  },
  {
   "cell_type": "code",
   "execution_count": 2,
   "metadata": {},
   "outputs": [],
   "source": [
    "sue = ['Sue Jones',45,40000,'hardware']"
   ]
  },
  {
   "cell_type": "code",
   "execution_count": 3,
   "metadata": {},
   "outputs": [
    {
     "data": {
      "text/plain": [
       "('Bob Smith', 40000)"
      ]
     },
     "execution_count": 3,
     "metadata": {},
     "output_type": "execute_result"
    }
   ],
   "source": [
    "bob[0],sue[2]"
   ]
  },
  {
   "cell_type": "code",
   "execution_count": 4,
   "metadata": {},
   "outputs": [
    {
     "name": "stdout",
     "output_type": "stream",
     "text": [
      "You are a smart guy\n"
     ]
    }
   ],
   "source": [
    "if (bob[0]=='Bob Smith'):\n",
    "    print('You are a smart guy')"
   ]
  },
  {
   "cell_type": "code",
   "execution_count": 5,
   "metadata": {},
   "outputs": [
    {
     "name": "stdout",
     "output_type": "stream",
     "text": [
      "You are brilliant\n"
     ]
    }
   ],
   "source": [
    "if (bob[0]=='Bob Smith'and bob[1]==42):\n",
    "    print('You are brilliant')"
   ]
  },
  {
   "cell_type": "code",
   "execution_count": 6,
   "metadata": {},
   "outputs": [
    {
     "name": "stdout",
     "output_type": "stream",
     "text": [
      "Damn it. Your IQ exceeds expectations\n"
     ]
    }
   ],
   "source": [
    "if (bob[0]=='Bob Smith'and bob[1]==42 and bob[-1]=='Software'):\n",
    "    print('Damn it. Your IQ exceeds expectations')"
   ]
  },
  {
   "cell_type": "code",
   "execution_count": 7,
   "metadata": {},
   "outputs": [
    {
     "data": {
      "text/plain": [
       "'Smith'"
      ]
     },
     "execution_count": 7,
     "metadata": {},
     "output_type": "execute_result"
    }
   ],
   "source": [
    "bob[0].split()[-1]"
   ]
  },
  {
   "cell_type": "code",
   "execution_count": 8,
   "metadata": {},
   "outputs": [
    {
     "data": {
      "text/plain": [
       "'Software'"
      ]
     },
     "execution_count": 8,
     "metadata": {},
     "output_type": "execute_result"
    }
   ],
   "source": [
    "bob[-1].split()[-1]"
   ]
  },
  {
   "cell_type": "code",
   "execution_count": 9,
   "metadata": {},
   "outputs": [],
   "source": [
    "sue[2]*=1.25"
   ]
  },
  {
   "cell_type": "code",
   "execution_count": 10,
   "metadata": {},
   "outputs": [
    {
     "data": {
      "text/plain": [
       "['Sue Jones', 45, 50000.0, 'hardware']"
      ]
     },
     "execution_count": 10,
     "metadata": {},
     "output_type": "execute_result"
    }
   ],
   "source": [
    "sue"
   ]
  },
  {
   "cell_type": "code",
   "execution_count": 11,
   "metadata": {},
   "outputs": [],
   "source": [
    "sue[0]*=4"
   ]
  },
  {
   "cell_type": "code",
   "execution_count": 12,
   "metadata": {},
   "outputs": [
    {
     "data": {
      "text/plain": [
       "['Sue JonesSue JonesSue JonesSue Jones', 45, 50000.0, 'hardware']"
      ]
     },
     "execution_count": 12,
     "metadata": {},
     "output_type": "execute_result"
    }
   ],
   "source": [
    "sue"
   ]
  },
  {
   "cell_type": "markdown",
   "metadata": {},
   "source": [
    "# sue[-1]*=1.5"
   ]
  },
  {
   "cell_type": "code",
   "execution_count": 13,
   "metadata": {},
   "outputs": [
    {
     "name": "stdout",
     "output_type": "stream",
     "text": [
      "You are right\n"
     ]
    }
   ],
   "source": [
    "if (sue[0].split()[-1]=='Jones' and sue[0].split()[-2]=='JonesSue'):\n",
    "    print('You are right')"
   ]
  },
  {
   "cell_type": "markdown",
   "metadata": {},
   "source": [
    "# A database list"
   ]
  },
  {
   "cell_type": "code",
   "execution_count": 14,
   "metadata": {},
   "outputs": [],
   "source": [
    "people = [bob,sue]"
   ]
  },
  {
   "cell_type": "code",
   "execution_count": 15,
   "metadata": {},
   "outputs": [
    {
     "name": "stdout",
     "output_type": "stream",
     "text": [
      "['Bob Smith', 42, 30000, 'Software']\n",
      "['Sue JonesSue JonesSue JonesSue Jones', 45, 50000.0, 'hardware']\n"
     ]
    }
   ],
   "source": [
    "for guys in people:\n",
    "    print(guys)"
   ]
  },
  {
   "cell_type": "code",
   "execution_count": 16,
   "metadata": {},
   "outputs": [],
   "source": [
    "bob[0]*=4"
   ]
  },
  {
   "cell_type": "code",
   "execution_count": 17,
   "metadata": {},
   "outputs": [
    {
     "name": "stdout",
     "output_type": "stream",
     "text": [
      "['Bob SmithBob SmithBob SmithBob Smith', 42, 30000, 'Software']\n",
      "['Sue JonesSue JonesSue JonesSue Jones', 45, 50000.0, 'hardware']\n"
     ]
    }
   ],
   "source": [
    "for guys in people:\n",
    "    print(guys)"
   ]
  },
  {
   "cell_type": "code",
   "execution_count": 18,
   "metadata": {},
   "outputs": [
    {
     "data": {
      "text/plain": [
       "[['Bob SmithBob SmithBob SmithBob Smith', 42, 30000, 'Software'],\n",
       " ['Sue JonesSue JonesSue JonesSue Jones', 45, 50000.0, 'hardware']]"
      ]
     },
     "execution_count": 18,
     "metadata": {},
     "output_type": "execute_result"
    }
   ],
   "source": [
    "people"
   ]
  },
  {
   "cell_type": "code",
   "execution_count": 19,
   "metadata": {},
   "outputs": [
    {
     "data": {
      "text/plain": [
       "['Bob', 'SmithBob', 'SmithBob', 'SmithBob', 'Smith']"
      ]
     },
     "execution_count": 19,
     "metadata": {},
     "output_type": "execute_result"
    }
   ],
   "source": [
    "bob[0].split()"
   ]
  },
  {
   "cell_type": "code",
   "execution_count": 20,
   "metadata": {},
   "outputs": [
    {
     "name": "stdout",
     "output_type": "stream",
     "text": [
      "Bob\n",
      "SmithBob\n",
      "SmithBob\n",
      "SmithBob\n",
      "Smith\n"
     ]
    }
   ],
   "source": [
    "for names in bob[0].split():\n",
    "    print(names)"
   ]
  },
  {
   "cell_type": "code",
   "execution_count": 21,
   "metadata": {},
   "outputs": [
    {
     "data": {
      "text/plain": [
       "'Sue JonesSue JonesSue JonesSue Jones'"
      ]
     },
     "execution_count": 21,
     "metadata": {},
     "output_type": "execute_result"
    }
   ],
   "source": [
    "people[1][0]"
   ]
  },
  {
   "cell_type": "code",
   "execution_count": 22,
   "metadata": {},
   "outputs": [
    {
     "data": {
      "text/plain": [
       "'Smith'"
      ]
     },
     "execution_count": 22,
     "metadata": {},
     "output_type": "execute_result"
    }
   ],
   "source": [
    "names"
   ]
  },
  {
   "cell_type": "code",
   "execution_count": 23,
   "metadata": {},
   "outputs": [
    {
     "data": {
      "text/plain": [
       "['Sue JonesSue JonesSue JonesSue Jones', 45, 50000.0, 'hardware']"
      ]
     },
     "execution_count": 23,
     "metadata": {},
     "output_type": "execute_result"
    }
   ],
   "source": [
    "guys"
   ]
  },
  {
   "cell_type": "markdown",
   "metadata": {},
   "source": [
    "Acutally, the last element in the database list has been assigned to each components in 'for' sentence."
   ]
  },
  {
   "cell_type": "code",
   "execution_count": 24,
   "metadata": {},
   "outputs": [
    {
     "name": "stdout",
     "output_type": "stream",
     "text": [
      "Smith\n",
      "36000.0\n",
      "Jones\n",
      "60000.0\n"
     ]
    }
   ],
   "source": [
    "for person in people:\n",
    "    print(person[0].split()[-1])\n",
    "    person[2]*=1.20\n",
    "    print(person[2])"
   ]
  },
  {
   "cell_type": "code",
   "execution_count": 25,
   "metadata": {},
   "outputs": [
    {
     "name": "stdout",
     "output_type": "stream",
     "text": [
      "36000.0\n",
      "60000.0\n"
     ]
    }
   ],
   "source": [
    "for person in people: print(person[2])"
   ]
  },
  {
   "cell_type": "raw",
   "metadata": {},
   "source": [
    "person[2] for person in people  SyntaxError: invalid syntax"
   ]
  },
  {
   "cell_type": "code",
   "execution_count": 26,
   "metadata": {},
   "outputs": [
    {
     "data": {
      "text/plain": [
       "[36000.0, 60000.0]"
      ]
     },
     "execution_count": 26,
     "metadata": {},
     "output_type": "execute_result"
    }
   ],
   "source": [
    "[person[2] for person in people]"
   ]
  },
  {
   "cell_type": "code",
   "execution_count": 27,
   "metadata": {},
   "outputs": [],
   "source": [
    "pay = ()"
   ]
  },
  {
   "cell_type": "code",
   "execution_count": 28,
   "metadata": {},
   "outputs": [
    {
     "data": {
      "text/plain": [
       "()"
      ]
     },
     "execution_count": 28,
     "metadata": {},
     "output_type": "execute_result"
    }
   ],
   "source": [
    "pay"
   ]
  },
  {
   "cell_type": "code",
   "execution_count": 29,
   "metadata": {},
   "outputs": [],
   "source": [
    "pay = [person[2] for person in people]"
   ]
  },
  {
   "cell_type": "code",
   "execution_count": 30,
   "metadata": {},
   "outputs": [
    {
     "data": {
      "text/plain": [
       "[36000.0, 60000.0]"
      ]
     },
     "execution_count": 30,
     "metadata": {},
     "output_type": "execute_result"
    }
   ],
   "source": [
    "pay"
   ]
  },
  {
   "cell_type": "code",
   "execution_count": 31,
   "metadata": {},
   "outputs": [],
   "source": [
    "pays = map((lambda x: x[2]),people)"
   ]
  },
  {
   "cell_type": "code",
   "execution_count": 32,
   "metadata": {},
   "outputs": [
    {
     "data": {
      "text/plain": [
       "<map at 0x7fb37013f438>"
      ]
     },
     "execution_count": 32,
     "metadata": {},
     "output_type": "execute_result"
    }
   ],
   "source": [
    "pays"
   ]
  },
  {
   "cell_type": "code",
   "execution_count": 33,
   "metadata": {},
   "outputs": [
    {
     "data": {
      "text/plain": [
       "[36000.0, 60000.0]"
      ]
     },
     "execution_count": 33,
     "metadata": {},
     "output_type": "execute_result"
    }
   ],
   "source": [
    "list(pays)"
   ]
  },
  {
   "cell_type": "markdown",
   "metadata": {},
   "source": [
    "pays1 = map((x[0]: x[2]),people) SyntaxError: invalid syntax"
   ]
  },
  {
   "cell_type": "code",
   "execution_count": 34,
   "metadata": {},
   "outputs": [],
   "source": [
    "map?"
   ]
  },
  {
   "cell_type": "code",
   "execution_count": 35,
   "metadata": {},
   "outputs": [
    {
     "data": {
      "text/plain": [
       "96000.0"
      ]
     },
     "execution_count": 35,
     "metadata": {},
     "output_type": "execute_result"
    }
   ],
   "source": [
    "sum(person[2] for person in people)"
   ]
  },
  {
   "cell_type": "code",
   "execution_count": 36,
   "metadata": {},
   "outputs": [],
   "source": [
    "people.append(['Tom',50,90000, 'Interpersonal skills'])"
   ]
  },
  {
   "cell_type": "code",
   "execution_count": 37,
   "metadata": {},
   "outputs": [
    {
     "data": {
      "text/plain": [
       "[['Bob SmithBob SmithBob SmithBob Smith', 42, 36000.0, 'Software'],\n",
       " ['Sue JonesSue JonesSue JonesSue Jones', 45, 60000.0, 'hardware'],\n",
       " ['Tom', 50, 90000, 'Interpersonal skills']]"
      ]
     },
     "execution_count": 37,
     "metadata": {},
     "output_type": "execute_result"
    }
   ],
   "source": [
    "people"
   ]
  },
  {
   "cell_type": "code",
   "execution_count": 38,
   "metadata": {},
   "outputs": [],
   "source": [
    "people[2][0]*=4"
   ]
  },
  {
   "cell_type": "code",
   "execution_count": 39,
   "metadata": {},
   "outputs": [
    {
     "data": {
      "text/plain": [
       "[['Bob SmithBob SmithBob SmithBob Smith', 42, 36000.0, 'Software'],\n",
       " ['Sue JonesSue JonesSue JonesSue Jones', 45, 60000.0, 'hardware'],\n",
       " ['TomTomTomTom', 50, 90000, 'Interpersonal skills']]"
      ]
     },
     "execution_count": 39,
     "metadata": {},
     "output_type": "execute_result"
    }
   ],
   "source": [
    "people"
   ]
  },
  {
   "cell_type": "code",
   "execution_count": 40,
   "metadata": {},
   "outputs": [],
   "source": [
    "people[2][0]*=3"
   ]
  },
  {
   "cell_type": "code",
   "execution_count": 41,
   "metadata": {},
   "outputs": [
    {
     "data": {
      "text/plain": [
       "[['Bob SmithBob SmithBob SmithBob Smith', 42, 36000.0, 'Software'],\n",
       " ['Sue JonesSue JonesSue JonesSue Jones', 45, 60000.0, 'hardware'],\n",
       " ['TomTomTomTomTomTomTomTomTomTomTomTom', 50, 90000, 'Interpersonal skills']]"
      ]
     },
     "execution_count": 41,
     "metadata": {},
     "output_type": "execute_result"
    }
   ],
   "source": [
    "people"
   ]
  },
  {
   "cell_type": "markdown",
   "metadata": {},
   "source": [
    "Two drawbacks, A: Memory will disappear once we exit python; B: Repeat the kinds of code typed. "
   ]
  },
  {
   "cell_type": "markdown",
   "metadata": {},
   "source": [
    "# Field labels"
   ]
  },
  {
   "cell_type": "code",
   "execution_count": 42,
   "metadata": {},
   "outputs": [],
   "source": [
    "Name,Age,Pay = range(3)"
   ]
  },
  {
   "cell_type": "code",
   "execution_count": 43,
   "metadata": {},
   "outputs": [
    {
     "name": "stdout",
     "output_type": "stream",
     "text": [
      "0\n",
      "1\n",
      "2\n",
      "3\n",
      "4\n",
      "5\n",
      "6\n",
      "7\n",
      "8\n",
      "9\n"
     ]
    }
   ],
   "source": [
    "for i in range(10):\n",
    "    print(i)"
   ]
  },
  {
   "cell_type": "code",
   "execution_count": 44,
   "metadata": {},
   "outputs": [
    {
     "data": {
      "text/plain": [
       "range(0, 3)"
      ]
     },
     "execution_count": 44,
     "metadata": {},
     "output_type": "execute_result"
    }
   ],
   "source": [
    "range(3)"
   ]
  },
  {
   "cell_type": "code",
   "execution_count": 45,
   "metadata": {},
   "outputs": [],
   "source": [
    "range?"
   ]
  },
  {
   "cell_type": "code",
   "execution_count": 46,
   "metadata": {},
   "outputs": [
    {
     "data": {
      "text/plain": [
       "range(4, 20)"
      ]
     },
     "execution_count": 46,
     "metadata": {},
     "output_type": "execute_result"
    }
   ],
   "source": [
    "range(4,20)"
   ]
  },
  {
   "cell_type": "code",
   "execution_count": 47,
   "metadata": {},
   "outputs": [
    {
     "name": "stdout",
     "output_type": "stream",
     "text": [
      "4\n",
      "5\n",
      "6\n",
      "7\n",
      "8\n",
      "9\n",
      "10\n",
      "11\n",
      "12\n",
      "13\n",
      "14\n",
      "15\n",
      "16\n",
      "17\n",
      "18\n",
      "19\n"
     ]
    }
   ],
   "source": [
    "for i in range(4,20):\n",
    "    print(i)"
   ]
  },
  {
   "cell_type": "code",
   "execution_count": 48,
   "metadata": {},
   "outputs": [
    {
     "data": {
      "text/plain": [
       "range(4, 20)"
      ]
     },
     "execution_count": 48,
     "metadata": {},
     "output_type": "execute_result"
    }
   ],
   "source": [
    "range(4,20,1)"
   ]
  },
  {
   "cell_type": "code",
   "execution_count": 49,
   "metadata": {},
   "outputs": [
    {
     "name": "stdout",
     "output_type": "stream",
     "text": [
      "4\n",
      "8\n",
      "12\n",
      "16\n"
     ]
    }
   ],
   "source": [
    "for i in range(4,20,4):\n",
    "    print(i)"
   ]
  },
  {
   "cell_type": "code",
   "execution_count": 50,
   "metadata": {},
   "outputs": [
    {
     "name": "stdout",
     "output_type": "stream",
     "text": [
      "4\n",
      "7\n",
      "10\n",
      "13\n",
      "16\n",
      "19\n"
     ]
    }
   ],
   "source": [
    "for i in range(4,20,3):\n",
    "    print(i)"
   ]
  },
  {
   "cell_type": "code",
   "execution_count": 51,
   "metadata": {},
   "outputs": [],
   "source": [
    "name,age,pay = range(3)"
   ]
  },
  {
   "cell_type": "code",
   "execution_count": 52,
   "metadata": {},
   "outputs": [],
   "source": [
    "Richard =['Richard Porter',43,100000]"
   ]
  },
  {
   "cell_type": "code",
   "execution_count": 53,
   "metadata": {},
   "outputs": [
    {
     "data": {
      "text/plain": [
       "'Richard Porter'"
      ]
     },
     "execution_count": 53,
     "metadata": {},
     "output_type": "execute_result"
    }
   ],
   "source": [
    "Richard[name]"
   ]
  },
  {
   "cell_type": "code",
   "execution_count": 54,
   "metadata": {},
   "outputs": [
    {
     "data": {
      "text/plain": [
       "(2, 100000)"
      ]
     },
     "execution_count": 54,
     "metadata": {},
     "output_type": "execute_result"
    }
   ],
   "source": [
    "pay,Richard[pay]"
   ]
  },
  {
   "cell_type": "markdown",
   "metadata": {},
   "source": [
    "Address readability. "
   ]
  },
  {
   "cell_type": "code",
   "execution_count": 55,
   "metadata": {},
   "outputs": [
    {
     "data": {
      "text/plain": [
       "2"
      ]
     },
     "execution_count": 55,
     "metadata": {},
     "output_type": "execute_result"
    }
   ],
   "source": [
    "pay"
   ]
  },
  {
   "cell_type": "markdown",
   "metadata": {},
   "source": [
    "Lists of tuples, where the tuples record both a feild name and a value."
   ]
  },
  {
   "cell_type": "code",
   "execution_count": 56,
   "metadata": {},
   "outputs": [],
   "source": [
    "bob = [['name','Bob Smith'],['age',42],['pay',10000]]"
   ]
  },
  {
   "cell_type": "code",
   "execution_count": 57,
   "metadata": {},
   "outputs": [],
   "source": [
    "sue = [['name','Sue Jones'],['age',45],['pay',20000]]"
   ]
  },
  {
   "cell_type": "code",
   "execution_count": 58,
   "metadata": {},
   "outputs": [],
   "source": [
    "people = [bob,sue]"
   ]
  },
  {
   "cell_type": "code",
   "execution_count": 59,
   "metadata": {},
   "outputs": [
    {
     "data": {
      "text/plain": [
       "[[['name', 'Bob Smith'], ['age', 42], ['pay', 10000]],\n",
       " [['name', 'Sue Jones'], ['age', 45], ['pay', 20000]]]"
      ]
     },
     "execution_count": 59,
     "metadata": {},
     "output_type": "execute_result"
    }
   ],
   "source": [
    "people"
   ]
  },
  {
   "cell_type": "code",
   "execution_count": 60,
   "metadata": {},
   "outputs": [
    {
     "name": "stdout",
     "output_type": "stream",
     "text": [
      "[['name', 'Bob Smith'], ['age', 42], ['pay', 10000]]\n",
      "[['name', 'Sue Jones'], ['age', 45], ['pay', 20000]]\n"
     ]
    }
   ],
   "source": [
    "for i in people:\n",
    "    print(i)"
   ]
  },
  {
   "cell_type": "code",
   "execution_count": 61,
   "metadata": {},
   "outputs": [
    {
     "name": "stdout",
     "output_type": "stream",
     "text": [
      "['name', 'Bob Smith']\n",
      "['name', 'Sue Jones']\n"
     ]
    }
   ],
   "source": [
    "for i in people:\n",
    "    print(i[0])"
   ]
  },
  {
   "cell_type": "code",
   "execution_count": 62,
   "metadata": {},
   "outputs": [
    {
     "name": "stdout",
     "output_type": "stream",
     "text": [
      "['name', 'Bob Smith']\n",
      "['age', 42]\n",
      "['pay', 10000]\n",
      "['name', 'Sue Jones']\n",
      "['age', 45]\n",
      "['pay', 20000]\n"
     ]
    }
   ],
   "source": [
    "for i in people:\n",
    "    for j in i:\n",
    "        print(j)"
   ]
  },
  {
   "cell_type": "code",
   "execution_count": 63,
   "metadata": {},
   "outputs": [
    {
     "name": "stdout",
     "output_type": "stream",
     "text": [
      "Bob Smith 10000\n",
      "Sue Jones 20000\n"
     ]
    }
   ],
   "source": [
    "for person in people:\n",
    "    print(person[0][1],person[2][1])"
   ]
  },
  {
   "cell_type": "code",
   "execution_count": 64,
   "metadata": {},
   "outputs": [
    {
     "data": {
      "text/plain": [
       "[[['name', 'Bob Smith'], ['age', 42], ['pay', 10000]],\n",
       " [['name', 'Sue Jones'], ['age', 45], ['pay', 20000]]]"
      ]
     },
     "execution_count": 64,
     "metadata": {},
     "output_type": "execute_result"
    }
   ],
   "source": [
    "people"
   ]
  },
  {
   "cell_type": "code",
   "execution_count": 65,
   "metadata": {},
   "outputs": [
    {
     "data": {
      "text/plain": [
       "['Bob Smith', 'Sue Jones']"
      ]
     },
     "execution_count": 65,
     "metadata": {},
     "output_type": "execute_result"
    }
   ],
   "source": [
    "[person[0][1] for person in people]"
   ]
  },
  {
   "cell_type": "code",
   "execution_count": 66,
   "metadata": {},
   "outputs": [
    {
     "name": "stdout",
     "output_type": "stream",
     "text": [
      "Smith\n",
      "['pay', 11000.0]\n",
      "Jones\n",
      "['pay', 22000.0]\n"
     ]
    }
   ],
   "source": [
    "for person in people:\n",
    "    print(person[0][1].split()[-1])\n",
    "    person[2][1]*=1.10\n",
    "    print(person[2])"
   ]
  },
  {
   "cell_type": "code",
   "execution_count": 67,
   "metadata": {},
   "outputs": [
    {
     "name": "stdout",
     "output_type": "stream",
     "text": [
      "Bob Smith\n",
      "Sue Jones\n"
     ]
    }
   ],
   "source": [
    "for person in people:\n",
    "    for (name,value) in person:\n",
    "        if name == 'name': print(value)"
   ]
  },
  {
   "cell_type": "code",
   "execution_count": 68,
   "metadata": {},
   "outputs": [
    {
     "name": "stdout",
     "output_type": "stream",
     "text": [
      "[['name', 'Bob Smith'], ['age', 42], ['pay', 11000.0]]\n",
      "[['name', 'Sue Jones'], ['age', 45], ['pay', 22000.0]]\n"
     ]
    }
   ],
   "source": [
    "for person in people:\n",
    "    print(person)"
   ]
  },
  {
   "cell_type": "code",
   "execution_count": 69,
   "metadata": {},
   "outputs": [
    {
     "name": "stdout",
     "output_type": "stream",
     "text": [
      "42\n",
      "45\n"
     ]
    }
   ],
   "source": [
    "for person in people:\n",
    "    for (name,value) in person:\n",
    "        if name == 'age': print(value)"
   ]
  },
  {
   "cell_type": "code",
   "execution_count": 70,
   "metadata": {},
   "outputs": [
    {
     "name": "stdout",
     "output_type": "stream",
     "text": [
      "['age', 42] ['pay', 11000.0]\n"
     ]
    }
   ],
   "source": [
    "for person in people:\n",
    "    for (name,value) in person:\n",
    "        if value == 'Bob Smith': print(person[1],person[2])"
   ]
  },
  {
   "cell_type": "code",
   "execution_count": 71,
   "metadata": {},
   "outputs": [],
   "source": [
    "def field(record,label):\n",
    "    for (fname,fvalue) in record:\n",
    "        if fname == label:\n",
    "            return fvalue"
   ]
  },
  {
   "cell_type": "code",
   "execution_count": 72,
   "metadata": {},
   "outputs": [
    {
     "data": {
      "text/plain": [
       "'Bob Smith'"
      ]
     },
     "execution_count": 72,
     "metadata": {},
     "output_type": "execute_result"
    }
   ],
   "source": [
    "field(bob,'name')"
   ]
  },
  {
   "cell_type": "code",
   "execution_count": 73,
   "metadata": {},
   "outputs": [
    {
     "data": {
      "text/plain": [
       "[['name', 'Bob Smith'], ['age', 42], ['pay', 11000.0]]"
      ]
     },
     "execution_count": 73,
     "metadata": {},
     "output_type": "execute_result"
    }
   ],
   "source": [
    "bob"
   ]
  },
  {
   "cell_type": "markdown",
   "metadata": {},
   "source": [
    "for (fname,fvalue) in bob:\n",
    "    if fname == 'name':\n",
    "        return fvalue  SyntaxError: 'return' outside function"
   ]
  },
  {
   "cell_type": "code",
   "execution_count": 74,
   "metadata": {},
   "outputs": [
    {
     "name": "stdout",
     "output_type": "stream",
     "text": [
      "Bob Smith\n"
     ]
    }
   ],
   "source": [
    "for (fname,fvalue) in bob:\n",
    "    if fname == 'name':\n",
    "        print(fvalue)"
   ]
  },
  {
   "cell_type": "code",
   "execution_count": 75,
   "metadata": {},
   "outputs": [
    {
     "data": {
      "text/plain": [
       "22000.0"
      ]
     },
     "execution_count": 75,
     "metadata": {},
     "output_type": "execute_result"
    }
   ],
   "source": [
    "field(sue,'pay')"
   ]
  },
  {
   "cell_type": "code",
   "execution_count": 76,
   "metadata": {},
   "outputs": [
    {
     "name": "stdout",
     "output_type": "stream",
     "text": [
      "Bob Smith\n",
      "Sue Jones\n"
     ]
    }
   ],
   "source": [
    "for rec in people:\n",
    "    print(field(rec,'name'))"
   ]
  },
  {
   "cell_type": "markdown",
   "metadata": {},
   "source": [
    "# Using Dictionaries"
   ]
  },
  {
   "cell_type": "code",
   "execution_count": 77,
   "metadata": {},
   "outputs": [],
   "source": [
    "bob = {'name': 'Bob Smith','age':42,'pay':30000,'job':'dev'}"
   ]
  },
  {
   "cell_type": "code",
   "execution_count": 78,
   "metadata": {},
   "outputs": [],
   "source": [
    "sue = {'name':'Sue Jones','age':45,'pay':40000,'job':'hdw'}"
   ]
  },
  {
   "cell_type": "code",
   "execution_count": 79,
   "metadata": {},
   "outputs": [
    {
     "data": {
      "text/plain": [
       "'Bob Smith'"
      ]
     },
     "execution_count": 79,
     "metadata": {},
     "output_type": "execute_result"
    }
   ],
   "source": [
    "bob['name']"
   ]
  },
  {
   "cell_type": "markdown",
   "metadata": {},
   "source": [
    "Rek = {name: Richar Porter,age:42} SyntaxError: invalid syntax"
   ]
  },
  {
   "cell_type": "code",
   "execution_count": 80,
   "metadata": {},
   "outputs": [
    {
     "data": {
      "text/plain": [
       "('Bob Smith', 40000)"
      ]
     },
     "execution_count": 80,
     "metadata": {},
     "output_type": "execute_result"
    }
   ],
   "source": [
    "bob['name'],sue['pay']"
   ]
  },
  {
   "cell_type": "code",
   "execution_count": 81,
   "metadata": {},
   "outputs": [
    {
     "data": {
      "text/plain": [
       "'Smith'"
      ]
     },
     "execution_count": 81,
     "metadata": {},
     "output_type": "execute_result"
    }
   ],
   "source": [
    "bob['name'].split()[-1]"
   ]
  },
  {
   "cell_type": "code",
   "execution_count": 82,
   "metadata": {},
   "outputs": [],
   "source": [
    "sue['pay']*=1.10"
   ]
  },
  {
   "cell_type": "code",
   "execution_count": 83,
   "metadata": {},
   "outputs": [
    {
     "data": {
      "text/plain": [
       "44000.0"
      ]
     },
     "execution_count": 83,
     "metadata": {},
     "output_type": "execute_result"
    }
   ],
   "source": [
    "sue['pay']"
   ]
  },
  {
   "cell_type": "markdown",
   "metadata": {},
   "source": [
    "# Other ways to make dictionaries"
   ]
  },
  {
   "cell_type": "code",
   "execution_count": 84,
   "metadata": {},
   "outputs": [],
   "source": [
    "bob = dict(name='Bob Smith',age=42,pay=30000,job='dev')"
   ]
  },
  {
   "cell_type": "code",
   "execution_count": 85,
   "metadata": {},
   "outputs": [],
   "source": [
    "sue = dict(name='Sue Jones',age=45,pay=40000,job='hdw')"
   ]
  },
  {
   "cell_type": "code",
   "execution_count": 86,
   "metadata": {},
   "outputs": [
    {
     "data": {
      "text/plain": [
       "({'name': 'Bob Smith', 'age': 42, 'pay': 30000, 'job': 'dev'},\n",
       " {'name': 'Sue Jones', 'age': 45, 'pay': 40000, 'job': 'hdw'})"
      ]
     },
     "execution_count": 86,
     "metadata": {},
     "output_type": "execute_result"
    }
   ],
   "source": [
    "bob,sue"
   ]
  },
  {
   "cell_type": "code",
   "execution_count": 87,
   "metadata": {},
   "outputs": [],
   "source": [
    "rek = {}"
   ]
  },
  {
   "cell_type": "code",
   "execution_count": 88,
   "metadata": {},
   "outputs": [],
   "source": [
    "rek['name']='Richard Porter'"
   ]
  },
  {
   "cell_type": "code",
   "execution_count": 89,
   "metadata": {},
   "outputs": [],
   "source": [
    "rek['age']=45"
   ]
  },
  {
   "cell_type": "code",
   "execution_count": 90,
   "metadata": {},
   "outputs": [],
   "source": [
    "rek['pay']=45000"
   ]
  },
  {
   "cell_type": "code",
   "execution_count": 91,
   "metadata": {},
   "outputs": [],
   "source": [
    "rek['job']='kp'"
   ]
  },
  {
   "cell_type": "code",
   "execution_count": 92,
   "metadata": {},
   "outputs": [
    {
     "data": {
      "text/plain": [
       "{'name': 'Richard Porter', 'age': 45, 'pay': 45000, 'job': 'kp'}"
      ]
     },
     "execution_count": 92,
     "metadata": {},
     "output_type": "execute_result"
    }
   ],
   "source": [
    "rek"
   ]
  },
  {
   "cell_type": "code",
   "execution_count": 93,
   "metadata": {},
   "outputs": [],
   "source": [
    "zip?"
   ]
  },
  {
   "cell_type": "code",
   "execution_count": 94,
   "metadata": {},
   "outputs": [],
   "source": [
    "names = ['name','age','pay','job']"
   ]
  },
  {
   "cell_type": "code",
   "execution_count": 95,
   "metadata": {},
   "outputs": [],
   "source": [
    "values = ['Sue Jones',45,40000,'hdw']"
   ]
  },
  {
   "cell_type": "code",
   "execution_count": 96,
   "metadata": {},
   "outputs": [
    {
     "data": {
      "text/plain": [
       "<zip at 0x7fb370129e08>"
      ]
     },
     "execution_count": 96,
     "metadata": {},
     "output_type": "execute_result"
    }
   ],
   "source": [
    "zip(names,values)"
   ]
  },
  {
   "cell_type": "code",
   "execution_count": 97,
   "metadata": {},
   "outputs": [
    {
     "data": {
      "text/plain": [
       "[('name', 'Sue Jones'), ('age', 45), ('pay', 40000), ('job', 'hdw')]"
      ]
     },
     "execution_count": 97,
     "metadata": {},
     "output_type": "execute_result"
    }
   ],
   "source": [
    "list(zip(names,values))"
   ]
  },
  {
   "cell_type": "code",
   "execution_count": 98,
   "metadata": {},
   "outputs": [],
   "source": [
    "sue = dict(zip(names,values))"
   ]
  },
  {
   "cell_type": "code",
   "execution_count": 99,
   "metadata": {},
   "outputs": [
    {
     "data": {
      "text/plain": [
       "{'name': 'Sue Jones', 'age': 45, 'pay': 40000, 'job': 'hdw'}"
      ]
     },
     "execution_count": 99,
     "metadata": {},
     "output_type": "execute_result"
    }
   ],
   "source": [
    "sue"
   ]
  },
  {
   "cell_type": "code",
   "execution_count": 100,
   "metadata": {},
   "outputs": [],
   "source": [
    "fields = ('name','age','job','pay')"
   ]
  },
  {
   "cell_type": "code",
   "execution_count": 101,
   "metadata": {},
   "outputs": [],
   "source": [
    "record = dict.fromkeys(fields,'?')"
   ]
  },
  {
   "cell_type": "code",
   "execution_count": 102,
   "metadata": {},
   "outputs": [
    {
     "data": {
      "text/plain": [
       "{'name': '?', 'age': '?', 'job': '?', 'pay': '?'}"
      ]
     },
     "execution_count": 102,
     "metadata": {},
     "output_type": "execute_result"
    }
   ],
   "source": [
    "record"
   ]
  },
  {
   "cell_type": "code",
   "execution_count": 103,
   "metadata": {},
   "outputs": [
    {
     "name": "stdout",
     "output_type": "stream",
     "text": [
      "Object `fromkeys` not found.\n"
     ]
    }
   ],
   "source": [
    "fromkeys?"
   ]
  },
  {
   "cell_type": "code",
   "execution_count": 104,
   "metadata": {},
   "outputs": [],
   "source": [
    "dict?"
   ]
  },
  {
   "cell_type": "markdown",
   "metadata": {},
   "source": [
    "Don't know what does 'fromkeys' mean?"
   ]
  },
  {
   "cell_type": "markdown",
   "metadata": {},
   "source": [
    "# Lists of dictionaries"
   ]
  },
  {
   "cell_type": "code",
   "execution_count": 105,
   "metadata": {},
   "outputs": [
    {
     "data": {
      "text/plain": [
       "{'name': 'Bob Smith', 'age': 42, 'pay': 30000, 'job': 'dev'}"
      ]
     },
     "execution_count": 105,
     "metadata": {},
     "output_type": "execute_result"
    }
   ],
   "source": [
    "bob"
   ]
  },
  {
   "cell_type": "code",
   "execution_count": 106,
   "metadata": {},
   "outputs": [
    {
     "data": {
      "text/plain": [
       "{'name': 'Sue Jones', 'age': 45, 'pay': 40000, 'job': 'hdw'}"
      ]
     },
     "execution_count": 106,
     "metadata": {},
     "output_type": "execute_result"
    }
   ],
   "source": [
    "sue"
   ]
  },
  {
   "cell_type": "code",
   "execution_count": 107,
   "metadata": {},
   "outputs": [],
   "source": [
    "people = [bob, sue]"
   ]
  },
  {
   "cell_type": "code",
   "execution_count": 108,
   "metadata": {},
   "outputs": [
    {
     "name": "stdout",
     "output_type": "stream",
     "text": [
      "Bob Smith;30000\n",
      "Sue Jones;40000\n"
     ]
    }
   ],
   "source": [
    "for person in people:\n",
    "    print(person['name'],person['pay'],sep=';')"
   ]
  },
  {
   "cell_type": "code",
   "execution_count": 109,
   "metadata": {},
   "outputs": [
    {
     "name": "stdout",
     "output_type": "stream",
     "text": [
      "Bob Smith, 42, 30000, dev\n",
      "Sue Jones, 45, 40000, hdw\n"
     ]
    }
   ],
   "source": [
    "for person in people:\n",
    "    print(person['name'],person['age'],person['pay'],person['job'],sep=', ')"
   ]
  },
  {
   "cell_type": "code",
   "execution_count": 110,
   "metadata": {},
   "outputs": [
    {
     "name": "stdout",
     "output_type": "stream",
     "text": [
      "40000\n"
     ]
    }
   ],
   "source": [
    "for person in people:\n",
    "    if person['name']=='Sue Jones':\n",
    "        print(person['pay'])"
   ]
  },
  {
   "cell_type": "code",
   "execution_count": 111,
   "metadata": {},
   "outputs": [],
   "source": [
    "names = [person['name'] for person in people]"
   ]
  },
  {
   "cell_type": "code",
   "execution_count": 112,
   "metadata": {},
   "outputs": [
    {
     "data": {
      "text/plain": [
       "['Bob Smith', 'Sue Jones']"
      ]
     },
     "execution_count": 112,
     "metadata": {},
     "output_type": "execute_result"
    }
   ],
   "source": [
    "names"
   ]
  },
  {
   "cell_type": "code",
   "execution_count": 113,
   "metadata": {},
   "outputs": [
    {
     "data": {
      "text/plain": [
       "<map at 0x7fb3700c1908>"
      ]
     },
     "execution_count": 113,
     "metadata": {},
     "output_type": "execute_result"
    }
   ],
   "source": [
    "map((lambda x: x['name']),people)"
   ]
  },
  {
   "cell_type": "code",
   "execution_count": 114,
   "metadata": {},
   "outputs": [
    {
     "data": {
      "text/plain": [
       "['Bob Smith', 'Sue Jones']"
      ]
     },
     "execution_count": 114,
     "metadata": {},
     "output_type": "execute_result"
    }
   ],
   "source": [
    "list(map((lambda x: x['name']),people))"
   ]
  },
  {
   "cell_type": "code",
   "execution_count": 115,
   "metadata": {},
   "outputs": [
    {
     "data": {
      "text/plain": [
       "70000"
      ]
     },
     "execution_count": 115,
     "metadata": {},
     "output_type": "execute_result"
    }
   ],
   "source": [
    "sum(person['pay'] for person in people)"
   ]
  },
  {
   "cell_type": "code",
   "execution_count": 116,
   "metadata": {},
   "outputs": [
    {
     "data": {
      "text/plain": [
       "['Sue Jones']"
      ]
     },
     "execution_count": 116,
     "metadata": {},
     "output_type": "execute_result"
    }
   ],
   "source": [
    "[rec['name'] for rec in people if rec['age']>=45]"
   ]
  },
  {
   "cell_type": "code",
   "execution_count": 117,
   "metadata": {},
   "outputs": [
    {
     "data": {
      "text/plain": [
       "['Bob Smith', 'Sue Jones']"
      ]
     },
     "execution_count": 117,
     "metadata": {},
     "output_type": "execute_result"
    }
   ],
   "source": [
    "[rec['name'] for rec in people if rec['age']>=20]"
   ]
  },
  {
   "cell_type": "code",
   "execution_count": 118,
   "metadata": {},
   "outputs": [
    {
     "data": {
      "text/plain": [
       "[45]"
      ]
     },
     "execution_count": 118,
     "metadata": {},
     "output_type": "execute_result"
    }
   ],
   "source": [
    "[rec['age'] for rec in people if rec['age']>=45]"
   ]
  },
  {
   "cell_type": "code",
   "execution_count": 119,
   "metadata": {},
   "outputs": [
    {
     "data": {
      "text/plain": [
       "2025"
      ]
     },
     "execution_count": 119,
     "metadata": {},
     "output_type": "execute_result"
    }
   ],
   "source": [
    "45*45"
   ]
  },
  {
   "cell_type": "code",
   "execution_count": 120,
   "metadata": {},
   "outputs": [
    {
     "data": {
      "text/plain": [
       "[42, 2025]"
      ]
     },
     "execution_count": 120,
     "metadata": {},
     "output_type": "execute_result"
    }
   ],
   "source": [
    "[(rec['age']**2 if rec['age']>=45 else rec['age']) for rec in people]"
   ]
  },
  {
   "cell_type": "code",
   "execution_count": 121,
   "metadata": {},
   "outputs": [],
   "source": [
    "G = (rec['name'] for rec in people if rec['age']>=45)"
   ]
  },
  {
   "cell_type": "code",
   "execution_count": 122,
   "metadata": {},
   "outputs": [
    {
     "data": {
      "text/plain": [
       "'Sue Jones'"
      ]
     },
     "execution_count": 122,
     "metadata": {},
     "output_type": "execute_result"
    }
   ],
   "source": [
    "next(G)"
   ]
  },
  {
   "cell_type": "code",
   "execution_count": 123,
   "metadata": {},
   "outputs": [
    {
     "data": {
      "text/plain": [
       "[{'name': 'Bob Smith', 'age': 42, 'pay': 30000, 'job': 'dev'},\n",
       " {'name': 'Sue Jones', 'age': 45, 'pay': 40000, 'job': 'hdw'}]"
      ]
     },
     "execution_count": 123,
     "metadata": {},
     "output_type": "execute_result"
    }
   ],
   "source": [
    "people"
   ]
  },
  {
   "cell_type": "code",
   "execution_count": 124,
   "metadata": {},
   "outputs": [],
   "source": [
    "next?"
   ]
  },
  {
   "cell_type": "code",
   "execution_count": 125,
   "metadata": {},
   "outputs": [
    {
     "data": {
      "text/plain": [
       "[]"
      ]
     },
     "execution_count": 125,
     "metadata": {},
     "output_type": "execute_result"
    }
   ],
   "source": [
    "list(G)"
   ]
  },
  {
   "cell_type": "code",
   "execution_count": 126,
   "metadata": {},
   "outputs": [
    {
     "data": {
      "text/plain": [
       "<generator object <genexpr> at 0x7fb3700c7db0>"
      ]
     },
     "execution_count": 126,
     "metadata": {},
     "output_type": "execute_result"
    }
   ],
   "source": [
    "G"
   ]
  },
  {
   "cell_type": "code",
   "execution_count": 127,
   "metadata": {},
   "outputs": [],
   "source": [
    "G = ((rec['age']**2 if rec['age']>=45 else rec['age']) for rec in people)"
   ]
  },
  {
   "cell_type": "code",
   "execution_count": 128,
   "metadata": {},
   "outputs": [
    {
     "data": {
      "text/plain": [
       "42"
      ]
     },
     "execution_count": 128,
     "metadata": {},
     "output_type": "execute_result"
    }
   ],
   "source": [
    "G.__next__()"
   ]
  },
  {
   "cell_type": "markdown",
   "metadata": {},
   "source": [
    "Double '_' for "
   ]
  },
  {
   "cell_type": "code",
   "execution_count": 129,
   "metadata": {},
   "outputs": [
    {
     "data": {
      "text/plain": [
       "2025"
      ]
     },
     "execution_count": 129,
     "metadata": {},
     "output_type": "execute_result"
    }
   ],
   "source": [
    "next(G)"
   ]
  },
  {
   "cell_type": "code",
   "execution_count": 130,
   "metadata": {},
   "outputs": [
    {
     "name": "stdout",
     "output_type": "stream",
     "text": [
      "Smith\n",
      "33000.0\n",
      "Jones\n",
      "44000.0\n"
     ]
    }
   ],
   "source": [
    "for person in people:\n",
    "    print(person['name'].split()[-1])\n",
    "    person['pay']*=1.10\n",
    "    print(person['pay'])"
   ]
  },
  {
   "cell_type": "code",
   "execution_count": 131,
   "metadata": {},
   "outputs": [
    {
     "name": "stdout",
     "output_type": "stream",
     "text": [
      "33000.0\n",
      "44000.0\n"
     ]
    }
   ],
   "source": [
    "for person in people: print(person['pay'])"
   ]
  },
  {
   "cell_type": "markdown",
   "metadata": {},
   "source": [
    "# Nested structures"
   ]
  },
  {
   "cell_type": "code",
   "execution_count": 132,
   "metadata": {},
   "outputs": [],
   "source": [
    "bob2 = {'name': {'first': 'Bob','last':'Smith'},'age':42,'job':['software','writing'],'pay':(40000,50000)}"
   ]
  },
  {
   "cell_type": "code",
   "execution_count": 133,
   "metadata": {},
   "outputs": [
    {
     "data": {
      "text/plain": [
       "{'first': 'Bob', 'last': 'Smith'}"
      ]
     },
     "execution_count": 133,
     "metadata": {},
     "output_type": "execute_result"
    }
   ],
   "source": [
    "bob2['name']"
   ]
  },
  {
   "cell_type": "code",
   "execution_count": 134,
   "metadata": {},
   "outputs": [
    {
     "data": {
      "text/plain": [
       "42"
      ]
     },
     "execution_count": 134,
     "metadata": {},
     "output_type": "execute_result"
    }
   ],
   "source": [
    "bob2['age']"
   ]
  },
  {
   "cell_type": "markdown",
   "metadata": {},
   "source": [
    "bob2[0] KeyError: 0"
   ]
  },
  {
   "cell_type": "code",
   "execution_count": 135,
   "metadata": {},
   "outputs": [
    {
     "data": {
      "text/plain": [
       "'Smith'"
      ]
     },
     "execution_count": 135,
     "metadata": {},
     "output_type": "execute_result"
    }
   ],
   "source": [
    "bob2['name']['last']"
   ]
  },
  {
   "cell_type": "code",
   "execution_count": 136,
   "metadata": {},
   "outputs": [
    {
     "data": {
      "text/plain": [
       "['software', 'writing']"
      ]
     },
     "execution_count": 136,
     "metadata": {},
     "output_type": "execute_result"
    }
   ],
   "source": [
    "bob2['job']"
   ]
  },
  {
   "cell_type": "code",
   "execution_count": 137,
   "metadata": {},
   "outputs": [
    {
     "data": {
      "text/plain": [
       "(40000, 50000)"
      ]
     },
     "execution_count": 137,
     "metadata": {},
     "output_type": "execute_result"
    }
   ],
   "source": [
    "bob2['pay'][0],bob2['pay'][1]"
   ]
  },
  {
   "cell_type": "code",
   "execution_count": 138,
   "metadata": {},
   "outputs": [
    {
     "data": {
      "text/plain": [
       "('software', 40000)"
      ]
     },
     "execution_count": 138,
     "metadata": {},
     "output_type": "execute_result"
    }
   ],
   "source": [
    "bob2['job'][0],bob2['pay'][0]"
   ]
  },
  {
   "cell_type": "code",
   "execution_count": 139,
   "metadata": {},
   "outputs": [
    {
     "name": "stdout",
     "output_type": "stream",
     "text": [
      "software\n",
      "writing\n"
     ]
    }
   ],
   "source": [
    "for job in bob2['job']:print(job)"
   ]
  },
  {
   "cell_type": "code",
   "execution_count": 140,
   "metadata": {},
   "outputs": [],
   "source": [
    "bob2['job'].append('janitor')"
   ]
  },
  {
   "cell_type": "code",
   "execution_count": 141,
   "metadata": {},
   "outputs": [
    {
     "data": {
      "text/plain": [
       "{'name': {'first': 'Bob', 'last': 'Smith'},\n",
       " 'age': 42,\n",
       " 'job': ['software', 'writing', 'janitor'],\n",
       " 'pay': (40000, 50000)}"
      ]
     },
     "execution_count": 141,
     "metadata": {},
     "output_type": "execute_result"
    }
   ],
   "source": [
    "bob2"
   ]
  },
  {
   "cell_type": "markdown",
   "metadata": {},
   "source": [
    "# Dictionaries of dictionaries"
   ]
  },
  {
   "cell_type": "code",
   "execution_count": 142,
   "metadata": {},
   "outputs": [],
   "source": [
    "bob = dict(name='Bob Smith',age=42,pay=30000,job='dev')"
   ]
  },
  {
   "cell_type": "code",
   "execution_count": 143,
   "metadata": {},
   "outputs": [],
   "source": [
    "sue = dict(name='Sue Jones',age=45, pay=40000, job='hdw')"
   ]
  },
  {
   "cell_type": "code",
   "execution_count": 144,
   "metadata": {},
   "outputs": [
    {
     "data": {
      "text/plain": [
       "({'name': 'Bob Smith', 'age': 42, 'pay': 30000, 'job': 'dev'},\n",
       " {'name': 'Sue Jones', 'age': 45, 'pay': 40000, 'job': 'hdw'})"
      ]
     },
     "execution_count": 144,
     "metadata": {},
     "output_type": "execute_result"
    }
   ],
   "source": [
    "bob,sue"
   ]
  },
  {
   "cell_type": "code",
   "execution_count": 145,
   "metadata": {},
   "outputs": [],
   "source": [
    "db={}"
   ]
  },
  {
   "cell_type": "code",
   "execution_count": 146,
   "metadata": {},
   "outputs": [],
   "source": [
    "db['bob'] =bob"
   ]
  },
  {
   "cell_type": "code",
   "execution_count": 147,
   "metadata": {},
   "outputs": [],
   "source": [
    "db['sue'] = sue"
   ]
  },
  {
   "cell_type": "code",
   "execution_count": 148,
   "metadata": {},
   "outputs": [
    {
     "data": {
      "text/plain": [
       "'Bob Smith'"
      ]
     },
     "execution_count": 148,
     "metadata": {},
     "output_type": "execute_result"
    }
   ],
   "source": [
    "db['bob']['name']"
   ]
  },
  {
   "cell_type": "code",
   "execution_count": 149,
   "metadata": {},
   "outputs": [
    {
     "data": {
      "text/plain": [
       "40000"
      ]
     },
     "execution_count": 149,
     "metadata": {},
     "output_type": "execute_result"
    }
   ],
   "source": [
    "db['sue']['pay']"
   ]
  },
  {
   "cell_type": "code",
   "execution_count": 150,
   "metadata": {},
   "outputs": [],
   "source": [
    "db ['sue']['pay'] = 50000"
   ]
  },
  {
   "cell_type": "code",
   "execution_count": 151,
   "metadata": {},
   "outputs": [
    {
     "data": {
      "text/plain": [
       "{'bob': {'name': 'Bob Smith', 'age': 42, 'pay': 30000, 'job': 'dev'},\n",
       " 'sue': {'name': 'Sue Jones', 'age': 45, 'pay': 50000, 'job': 'hdw'}}"
      ]
     },
     "execution_count": 151,
     "metadata": {},
     "output_type": "execute_result"
    }
   ],
   "source": [
    "db"
   ]
  },
  {
   "cell_type": "code",
   "execution_count": 152,
   "metadata": {},
   "outputs": [],
   "source": [
    "import pprint"
   ]
  },
  {
   "cell_type": "code",
   "execution_count": 153,
   "metadata": {},
   "outputs": [
    {
     "name": "stdout",
     "output_type": "stream",
     "text": [
      "{'bob': {'age': 42, 'job': 'dev', 'name': 'Bob Smith', 'pay': 30000},\n",
      " 'sue': {'age': 45, 'job': 'hdw', 'name': 'Sue Jones', 'pay': 50000}}\n"
     ]
    }
   ],
   "source": [
    "pprint.pprint(db)"
   ]
  },
  {
   "cell_type": "code",
   "execution_count": 154,
   "metadata": {},
   "outputs": [],
   "source": [
    "db['bob']['pay'] = 3000000000000000000000000000000000000000000000000000000000000000000000000000000000000000000000000000000000000"
   ]
  },
  {
   "cell_type": "code",
   "execution_count": 155,
   "metadata": {},
   "outputs": [
    {
     "data": {
      "text/plain": [
       "{'bob': {'name': 'Bob Smith',\n",
       "  'age': 42,\n",
       "  'pay': 3000000000000000000000000000000000000000000000000000000000000000000000000000000000000000000000000000000000000,\n",
       "  'job': 'dev'},\n",
       " 'sue': {'name': 'Sue Jones', 'age': 45, 'pay': 50000, 'job': 'hdw'}}"
      ]
     },
     "execution_count": 155,
     "metadata": {},
     "output_type": "execute_result"
    }
   ],
   "source": [
    "db"
   ]
  },
  {
   "cell_type": "code",
   "execution_count": 156,
   "metadata": {},
   "outputs": [
    {
     "name": "stdout",
     "output_type": "stream",
     "text": [
      "{'bob': {'age': 42,\n",
      "         'job': 'dev',\n",
      "         'name': 'Bob Smith',\n",
      "         'pay': 3000000000000000000000000000000000000000000000000000000000000000000000000000000000000000000000000000000000000},\n",
      " 'sue': {'age': 45, 'job': 'hdw', 'name': 'Sue Jones', 'pay': 50000}}\n"
     ]
    }
   ],
   "source": [
    "pprint.pprint(db)"
   ]
  },
  {
   "cell_type": "code",
   "execution_count": 157,
   "metadata": {},
   "outputs": [
    {
     "name": "stdout",
     "output_type": "stream",
     "text": [
      "bob => Bob Smith\n",
      "sue => Sue Jones\n"
     ]
    }
   ],
   "source": [
    "for key in db:\n",
    "    print(key,'=>',db[key]['name'])"
   ]
  },
  {
   "cell_type": "code",
   "execution_count": 158,
   "metadata": {},
   "outputs": [],
   "source": [
    "db['bob']['pay'] = 3000"
   ]
  },
  {
   "cell_type": "code",
   "execution_count": 159,
   "metadata": {},
   "outputs": [
    {
     "name": "stdout",
     "output_type": "stream",
     "text": [
      "bob :\n",
      "Bob Smith,42,dev,3000\n",
      "sue :\n",
      "Sue Jones,45,hdw,50000\n"
     ]
    }
   ],
   "source": [
    "for key in db:\n",
    "    print(key,':')\n",
    "    print(db[key]['name'],db[key]['age'],db[key]['job'],db[key]['pay'],sep=',')"
   ]
  },
  {
   "cell_type": "code",
   "execution_count": 160,
   "metadata": {},
   "outputs": [
    {
     "name": "stdout",
     "output_type": "stream",
     "text": [
      "bob => 3000\n",
      "sue => 50000\n"
     ]
    }
   ],
   "source": [
    "for key in db:\n",
    "    print(key,'=>',db[key]['pay'])"
   ]
  },
  {
   "cell_type": "code",
   "execution_count": 161,
   "metadata": {},
   "outputs": [
    {
     "name": "stdout",
     "output_type": "stream",
     "text": [
      "Smith\n",
      "3300.0000000000005\n",
      "Jones\n",
      "55000.00000000001\n"
     ]
    }
   ],
   "source": [
    "for key in db:\n",
    "    print(db[key]['name'].split()[-1])\n",
    "    db[key]['pay']*=1.10\n",
    "    print(db[key]['pay'])"
   ]
  },
  {
   "cell_type": "code",
   "execution_count": 162,
   "metadata": {},
   "outputs": [
    {
     "data": {
      "text/plain": [
       "['Bob Smith', 'Sue Jones']"
      ]
     },
     "execution_count": 162,
     "metadata": {},
     "output_type": "execute_result"
    }
   ],
   "source": [
    "x = [db[key]['name'] for key in db]\n",
    "x"
   ]
  },
  {
   "cell_type": "code",
   "execution_count": 163,
   "metadata": {},
   "outputs": [
    {
     "data": {
      "text/plain": [
       "dict_values([{'name': 'Bob Smith', 'age': 42, 'pay': 3300.0000000000005, 'job': 'dev'}, {'name': 'Sue Jones', 'age': 45, 'pay': 55000.00000000001, 'job': 'hdw'}])"
      ]
     },
     "execution_count": 163,
     "metadata": {},
     "output_type": "execute_result"
    }
   ],
   "source": [
    "db.values()"
   ]
  },
  {
   "cell_type": "code",
   "execution_count": 164,
   "metadata": {},
   "outputs": [
    {
     "data": {
      "text/plain": [
       "['Bob Smith', 'Sue Jones']"
      ]
     },
     "execution_count": 164,
     "metadata": {},
     "output_type": "execute_result"
    }
   ],
   "source": [
    "x = [rec['name'] for rec in db.values()]\n",
    "x"
   ]
  },
  {
   "cell_type": "code",
   "execution_count": 165,
   "metadata": {},
   "outputs": [],
   "source": [
    "db['tom'] = dict(name='Tom',age=50, job='freelancer',pay=8.8*8.3*5)"
   ]
  },
  {
   "cell_type": "code",
   "execution_count": 166,
   "metadata": {},
   "outputs": [
    {
     "data": {
      "text/plain": [
       "{'name': 'Tom', 'age': 50, 'job': 'freelancer', 'pay': 365.20000000000005}"
      ]
     },
     "execution_count": 166,
     "metadata": {},
     "output_type": "execute_result"
    }
   ],
   "source": [
    "db['tom']"
   ]
  },
  {
   "cell_type": "code",
   "execution_count": 167,
   "metadata": {},
   "outputs": [
    {
     "data": {
      "text/plain": [
       "['bob', 'sue', 'tom']"
      ]
     },
     "execution_count": 167,
     "metadata": {},
     "output_type": "execute_result"
    }
   ],
   "source": [
    "list(db.keys())"
   ]
  },
  {
   "cell_type": "code",
   "execution_count": 168,
   "metadata": {},
   "outputs": [
    {
     "data": {
      "text/plain": [
       "3"
      ]
     },
     "execution_count": 168,
     "metadata": {},
     "output_type": "execute_result"
    }
   ],
   "source": [
    "len(db)"
   ]
  },
  {
   "cell_type": "code",
   "execution_count": 169,
   "metadata": {},
   "outputs": [
    {
     "data": {
      "text/plain": [
       "[42, 45, 50]"
      ]
     },
     "execution_count": 169,
     "metadata": {},
     "output_type": "execute_result"
    }
   ],
   "source": [
    "[rec['age'] for rec in db.values()]"
   ]
  },
  {
   "cell_type": "code",
   "execution_count": 170,
   "metadata": {},
   "outputs": [
    {
     "data": {
      "text/plain": [
       "['Sue Jones', 'Tom']"
      ]
     },
     "execution_count": 170,
     "metadata": {},
     "output_type": "execute_result"
    }
   ],
   "source": [
    "[rec['name'] for rec in db.values() if rec['age']>=45]"
   ]
  },
  {
   "cell_type": "code",
   "execution_count": 171,
   "metadata": {},
   "outputs": [
    {
     "data": {
      "text/plain": [
       "{'bob': {'name': 'Bob Smith',\n",
       "  'age': 42,\n",
       "  'pay': 3300.0000000000005,\n",
       "  'job': 'dev'},\n",
       " 'sue': {'name': 'Sue Jones',\n",
       "  'age': 45,\n",
       "  'pay': 55000.00000000001,\n",
       "  'job': 'hdw'},\n",
       " 'tom': {'name': 'Tom',\n",
       "  'age': 50,\n",
       "  'job': 'freelancer',\n",
       "  'pay': 365.20000000000005}}"
      ]
     },
     "execution_count": 171,
     "metadata": {},
     "output_type": "execute_result"
    }
   ],
   "source": [
    "db"
   ]
  },
  {
   "cell_type": "code",
   "execution_count": 172,
   "metadata": {},
   "outputs": [
    {
     "name": "stdout",
     "output_type": "stream",
     "text": [
      "{'bob': {'age': 42,\n",
      "         'job': 'dev',\n",
      "         'name': 'Bob Smith',\n",
      "         'pay': 3300.0000000000005},\n",
      " 'sue': {'age': 45,\n",
      "         'job': 'hdw',\n",
      "         'name': 'Sue Jones',\n",
      "         'pay': 55000.00000000001},\n",
      " 'tom': {'age': 50,\n",
      "         'job': 'freelancer',\n",
      "         'name': 'Tom',\n",
      "         'pay': 365.20000000000005}}\n"
     ]
    }
   ],
   "source": [
    "pprint.pprint(db)"
   ]
  },
  {
   "cell_type": "markdown",
   "metadata": {},
   "source": [
    "# Storing Records Persistently"
   ]
  },
  {
   "cell_type": "markdown",
   "metadata": {},
   "source": [
    "Using Formatted Files"
   ]
  },
  {
   "cell_type": "code",
   "execution_count": 173,
   "metadata": {},
   "outputs": [
    {
     "name": "stdout",
     "output_type": "stream",
     "text": [
      "bob =>\n",
      " {'name': 'Bob Smith', 'age': 42, 'pay': 30000, 'job': 'dev'}\n",
      "sue =>\n",
      " {'name': 'Sue Jones', 'age': 45, 'pay': 40000, 'job': 'hdw'}\n",
      "tom =>\n",
      " {'name': 'Tom Caffrrey', 'age': 50, 'pay': 50000, 'job': None}\n"
     ]
    }
   ],
   "source": [
    "# Example 1-1. PP4E\\Preview\\initdata.py\n",
    "\n",
    "# initialize data to be stored in files, pickles, shelves\n",
    "\n",
    "#records\n",
    "bob = {'name':'Bob Smith','age':42,'pay':30000,'job':'dev'}\n",
    "sue = {'name':'Sue Jones','age':45,'pay':40000,'job':'hdw'}\n",
    "tom = {'name':'Tom Caffrrey','age':50,'pay':50000,'job':None}\n",
    "\n",
    "#database\n",
    "db = {}\n",
    "db['bob'] = bob\n",
    "db['sue'] = sue\n",
    "db['tom'] = tom\n",
    "\n",
    "if __name__ == '__main__':\n",
    "    for key in db:\n",
    "        print(key,'=>\\n',db[key])"
   ]
  },
  {
   "cell_type": "code",
   "execution_count": 174,
   "metadata": {},
   "outputs": [],
   "source": [
    "python?"
   ]
  },
  {
   "cell_type": "markdown",
   "metadata": {},
   "source": [
    "python testing.py   SyntaxError: invalid syntax"
   ]
  },
  {
   "cell_type": "code",
   "execution_count": 175,
   "metadata": {},
   "outputs": [],
   "source": [
    "import math"
   ]
  },
  {
   "cell_type": "code",
   "execution_count": 176,
   "metadata": {},
   "outputs": [
    {
     "data": {
      "text/plain": [
       "3.141592653589793"
      ]
     },
     "execution_count": 176,
     "metadata": {},
     "output_type": "execute_result"
    }
   ],
   "source": [
    "math.pi"
   ]
  },
  {
   "cell_type": "code",
   "execution_count": 177,
   "metadata": {},
   "outputs": [],
   "source": [
    "\"\"\" Save in-memory database object to a file with custom formatting; assume 'endrec.','enddb.'and '=>'are not used in the data; assume db is dict of dict; warning: eval can be dangerous-it runs strings as code; could also eval() record dict all at once; could also dbfile.write(key+'\\n') vs print(key,file= dbfile );   \"\"\"\n",
    "dbfilename = 'people-file'\n",
    "ENDDB = 'enddb.'\n",
    "ENDREC = 'endrec.'\n",
    "RECSEP = '=>'\n",
    "\n",
    "def storeDbase(db,dbfilename=dbfilename):\n",
    "    \"formatted dump of database to flat file\"\n",
    "    dbfile = open(dbfilename,'w')\n",
    "    for key in db:\n",
    "        print(key,file=dbfile)\n",
    "        for (name,value) in db[key].items():\n",
    "            print(name + RECSEP + repr(value),file=dbfile)\n",
    "        print(ENDREC,file=dbfile)\n",
    "    print(ENDDB,file=dbfile)\n",
    "    dbfile.close()\n",
    "\n",
    "def loadDbase(dbfilename=dbfilename):\n",
    "    \"parse data to reconstruct database\"\n",
    "    dbfile = open(dbfilename)\n",
    "    import sys\n",
    "    sys.stdin = dbfile\n",
    "    db = {}\n",
    "    key = input()\n",
    "    while key != ENDDB:\n",
    "        rec = {}\n",
    "        file = input()\n",
    "        while field != ENDREC:\n",
    "            name,value = field.split(RECSEP)\n",
    "            rec[name] = eval(value)\n",
    "            field = input()\n",
    "            db[key] = rec\n",
    "            key = input()\n",
    "        return db\n",
    "if __name__ =='__main__':\n",
    "    from initidata import db\n",
    "    storeDbase(db)"
   ]
  },
  {
   "cell_type": "code",
   "execution_count": 178,
   "metadata": {},
   "outputs": [
    {
     "name": "stdout",
     "output_type": "stream",
     "text": [
      "bob =>\n",
      " {'name': 'Bob Smith', 'age': 42, 'pay': 30000, 'job': 'dev'}\n",
      "sue =>\n",
      " {'name': 'Sue Jones', 'age': 45, 'pay': 40000, 'job': 'hdw'}\n",
      "tom =>\n",
      " {'name': 'Tom Caffrrey', 'age': 50, 'pay': 50000, 'job': None}\n"
     ]
    }
   ],
   "source": [
    "# %load initidata.py\n",
    "#!/usr/bin/env python\n",
    "\n",
    "# Example 1-1. PP4E\\Preview\\initdata.py\n",
    "\n",
    "# initialize data to be stored in files, pickles, shelves\n",
    "\n",
    "#records\n",
    "bob = {'name':'Bob Smith','age':42,'pay':30000,'job':'dev'}\n",
    "sue = {'name':'Sue Jones','age':45,'pay':40000,'job':'hdw'}\n",
    "tom = {'name':'Tom Caffrrey','age':50,'pay':50000,'job':None}\n",
    "\n",
    "#database\n",
    "db = {}\n",
    "db['bob'] = bob\n",
    "db['sue'] = sue\n",
    "db['tom'] = tom\n",
    "\n",
    "if __name__ == '__main__':\n",
    "    for key in db:\n",
    "        print(key,'=>\\n',db[key])\n",
    "\n",
    "\n",
    "\n",
    "\n",
    "\n"
   ]
  },
  {
   "cell_type": "code",
   "execution_count": 179,
   "metadata": {},
   "outputs": [
    {
     "name": "stdout",
     "output_type": "stream",
     "text": [
      "bob =>\n",
      " {'name': 'Bob Smith', 'age': 42, 'pay': 30000, 'job': 'dev'}\n",
      "sue =>\n",
      " {'name': 'Sue Jones', 'age': 45, 'pay': 40000, 'job': 'hdw'}\n",
      "tom =>\n",
      " {'name': 'Tom Caffrrey', 'age': 50, 'pay': 50000, 'job': None}\n"
     ]
    }
   ],
   "source": [
    "%run initidata.py"
   ]
  },
  {
   "cell_type": "code",
   "execution_count": 180,
   "metadata": {},
   "outputs": [],
   "source": [
    "from initidata import db"
   ]
  },
  {
   "cell_type": "code",
   "execution_count": 209,
   "metadata": {},
   "outputs": [],
   "source": [
    "# %load make_db_file.py\n",
    "#!/usr/bin/env python\n",
    "\n",
    "\"\"\" Save in-memory database object to a file with custom formatting; assume 'endrec.','enddb.'and '=>'are not used in the data; assume db is dict of dict; warning: eval can be dangerous-it runs strings as code; could also eval() record dict all at once; could also dbfile.write(key+'\\n') vs print(key,file= dbfile );   \"\"\"\n",
    "dbfilename = 'people-file'\n",
    "ENDDB = 'enddb.'\n",
    "ENDREC = 'endrec.'\n",
    "RECSEP = '=>'\n",
    "\n",
    "def storeDbase(db,dbfilename=dbfilename):\n",
    "    \"formatted dump of database to flat file\"\n",
    "    dbfile = open(dbfilename,'w')\n",
    "    for key in db:\n",
    "        print(key,file=dbfile)\n",
    "        for (name,value) in db[key].items():\n",
    "            print(name + RECSEP + repr(value),file=dbfile)\n",
    "        print(ENDREC,file=dbfile)\n",
    "    print(ENDDB,file=dbfile)\n",
    "    dbfile.close()\n",
    "\n",
    "def loadDbase(dbfilename=dbfilename):\n",
    "    \"parse data to reconstruct database\"\n",
    "    dbfile = open(dbfilename)\n",
    "    import sys\n",
    "    sys.stdin = dbfile\n",
    "    db = {}\n",
    "    key = input()\n",
    "    while key != ENDDB:\n",
    "        rec = {}\n",
    "        file = input()\n",
    "        while field != ENDREC:\n",
    "            name,value = field.split(RECSEP)\n",
    "            rec[name] = eval(value)\n",
    "            field = input()\n",
    "            db[key] = rec\n",
    "            key = input()\n",
    "        return db\n",
    "if __name__ =='__main__':\n",
    "    from initidata import db\n",
    "    storeDbase(db)\n",
    "\n"
   ]
  },
  {
   "cell_type": "code",
   "execution_count": 210,
   "metadata": {},
   "outputs": [],
   "source": [
    "%run make_db_file.py"
   ]
  },
  {
   "cell_type": "code",
   "execution_count": 211,
   "metadata": {},
   "outputs": [
    {
     "name": "stdout",
     "output_type": "stream",
     "text": [
      "bob\n",
      "name=>'Bob Smith'\n",
      "age=>42\n",
      "pay=>30000\n",
      "job=>'dev'\n",
      "endrec.\n",
      "sue\n",
      "name=>'Sue Jones'\n",
      "age=>45\n",
      "pay=>40000\n",
      "job=>'hdw'\n",
      "endrec.\n",
      "tom\n",
      "name=>'Tom Caffrrey'\n",
      "age=>50\n",
      "pay=>50000\n",
      "job=>None\n",
      "endrec.\n",
      "enddb.\n"
     ]
    }
   ],
   "source": [
    "for line in open('people-file'):\n",
    "    print(line,end='')"
   ]
  },
  {
   "cell_type": "code",
   "execution_count": 212,
   "metadata": {},
   "outputs": [],
   "source": [
    "from make_db_file import loadDbase"
   ]
  },
  {
   "cell_type": "code",
   "execution_count": 213,
   "metadata": {},
   "outputs": [
    {
     "name": "stdout",
     "output_type": "stream",
     "text": [
      "bob =>\n",
      " {'name': 'Bob Smith', 'age': 42, 'pay': 30000, 'job': 'dev'}\n",
      "sue =>\n",
      " {'name': 'Sue Jones', 'age': 45, 'pay': 40000, 'job': 'hdw'}\n",
      "tom =>\n",
      " {'name': 'Tom Caffrrey', 'age': 50, 'pay': 50000, 'job': None}\n"
     ]
    }
   ],
   "source": [
    "for key in db:\n",
    "    print(key,'=>\\n',db[key])"
   ]
  },
  {
   "cell_type": "code",
   "execution_count": 214,
   "metadata": {},
   "outputs": [
    {
     "name": "stdout",
     "output_type": "stream",
     "text": [
      "Sue Jones\n"
     ]
    }
   ],
   "source": [
    "print(db['sue']['name'])"
   ]
  },
  {
   "cell_type": "code",
   "execution_count": 215,
   "metadata": {},
   "outputs": [
    {
     "data": {
      "text/plain": [
       "True"
      ]
     },
     "execution_count": 215,
     "metadata": {},
     "output_type": "execute_result"
    }
   ],
   "source": [
    "__name__ == '__main__'"
   ]
  },
  {
   "cell_type": "code",
   "execution_count": 216,
   "metadata": {},
   "outputs": [
    {
     "name": "stdout",
     "output_type": "stream",
     "text": [
      "bob =>\n",
      " {'name': 'Bob Smith', 'age': 42, 'pay': 30000, 'job': 'dev'}\n",
      "sue =>\n",
      " {'name': 'Sue Jones', 'age': 45, 'pay': 40000, 'job': 'hdw'}\n",
      "tom =>\n",
      " {'name': 'Tom Caffrrey', 'age': 50, 'pay': 50000, 'job': None}\n"
     ]
    }
   ],
   "source": [
    "%run initdata.py"
   ]
  },
  {
   "cell_type": "code",
   "execution_count": 217,
   "metadata": {},
   "outputs": [],
   "source": [
    "import sys"
   ]
  },
  {
   "cell_type": "code",
   "execution_count": 218,
   "metadata": {},
   "outputs": [
    {
     "data": {
      "text/plain": [
       "['__displayhook__',\n",
       " '__doc__',\n",
       " '__excepthook__',\n",
       " '__interactivehook__',\n",
       " '__loader__',\n",
       " '__name__',\n",
       " '__package__',\n",
       " '__spec__',\n",
       " '__stderr__',\n",
       " '__stdin__',\n",
       " '__stdout__',\n",
       " '_clear_type_cache',\n",
       " '_current_frames',\n",
       " '_debugmallocstats',\n",
       " '_getframe',\n",
       " '_git',\n",
       " '_home',\n",
       " '_xoptions',\n",
       " 'abiflags',\n",
       " 'api_version',\n",
       " 'argv',\n",
       " 'base_exec_prefix',\n",
       " 'base_prefix',\n",
       " 'builtin_module_names',\n",
       " 'byteorder',\n",
       " 'call_tracing',\n",
       " 'callstats',\n",
       " 'copyright',\n",
       " 'displayhook',\n",
       " 'dont_write_bytecode',\n",
       " 'exc_info',\n",
       " 'excepthook',\n",
       " 'exec_prefix',\n",
       " 'executable',\n",
       " 'exit',\n",
       " 'flags',\n",
       " 'float_info',\n",
       " 'float_repr_style',\n",
       " 'get_asyncgen_hooks',\n",
       " 'get_coroutine_wrapper',\n",
       " 'getallocatedblocks',\n",
       " 'getcheckinterval',\n",
       " 'getdefaultencoding',\n",
       " 'getdlopenflags',\n",
       " 'getfilesystemencodeerrors',\n",
       " 'getfilesystemencoding',\n",
       " 'getprofile',\n",
       " 'getrecursionlimit',\n",
       " 'getrefcount',\n",
       " 'getsizeof',\n",
       " 'getswitchinterval',\n",
       " 'gettrace',\n",
       " 'hash_info',\n",
       " 'hexversion',\n",
       " 'implementation',\n",
       " 'int_info',\n",
       " 'intern',\n",
       " 'is_finalizing',\n",
       " 'last_traceback',\n",
       " 'last_type',\n",
       " 'last_value',\n",
       " 'maxsize',\n",
       " 'maxunicode',\n",
       " 'meta_path',\n",
       " 'modules',\n",
       " 'path',\n",
       " 'path_hooks',\n",
       " 'path_importer_cache',\n",
       " 'platform',\n",
       " 'prefix',\n",
       " 'ps1',\n",
       " 'ps2',\n",
       " 'ps3',\n",
       " 'set_asyncgen_hooks',\n",
       " 'set_coroutine_wrapper',\n",
       " 'setcheckinterval',\n",
       " 'setdlopenflags',\n",
       " 'setprofile',\n",
       " 'setrecursionlimit',\n",
       " 'setswitchinterval',\n",
       " 'settrace',\n",
       " 'stderr',\n",
       " 'stdin',\n",
       " 'stdout',\n",
       " 'thread_info',\n",
       " 'version',\n",
       " 'version_info',\n",
       " 'warnoptions']"
      ]
     },
     "execution_count": 218,
     "metadata": {},
     "output_type": "execute_result"
    }
   ],
   "source": [
    "dir(sys)"
   ]
  },
  {
   "cell_type": "code",
   "execution_count": 219,
   "metadata": {},
   "outputs": [],
   "source": [
    "from initdata import db"
   ]
  },
  {
   "cell_type": "code",
   "execution_count": 220,
   "metadata": {},
   "outputs": [
    {
     "data": {
      "text/plain": [
       "{'bob': {'name': 'Bob Smith', 'age': 42, 'pay': 30000, 'job': 'dev'},\n",
       " 'sue': {'name': 'Sue Jones', 'age': 45, 'pay': 40000, 'job': 'hdw'},\n",
       " 'tom': {'name': 'Tom Caffrrey', 'age': 50, 'pay': 50000, 'job': None}}"
      ]
     },
     "execution_count": 220,
     "metadata": {},
     "output_type": "execute_result"
    }
   ],
   "source": [
    "db"
   ]
  },
  {
   "cell_type": "code",
   "execution_count": 221,
   "metadata": {},
   "outputs": [],
   "source": [
    "storeDbase(db)"
   ]
  },
  {
   "cell_type": "code",
   "execution_count": 222,
   "metadata": {},
   "outputs": [],
   "source": [
    "storeDbase(db,dbfilename='people-file')"
   ]
  },
  {
   "cell_type": "code",
   "execution_count": 223,
   "metadata": {},
   "outputs": [
    {
     "data": {
      "text/plain": [
       "<_io.TextIOWrapper name='people-file' mode='w' encoding='UTF-8'>"
      ]
     },
     "execution_count": 223,
     "metadata": {},
     "output_type": "execute_result"
    }
   ],
   "source": [
    "open('people-file','w')"
   ]
  },
  {
   "cell_type": "code",
   "execution_count": 224,
   "metadata": {},
   "outputs": [],
   "source": [
    "dbfile = open('people-file','w')"
   ]
  },
  {
   "cell_type": "code",
   "execution_count": 225,
   "metadata": {},
   "outputs": [],
   "source": [
    "for key in db:\n",
    "    print(key,file=open('people-file','w'))\n",
    "    for (name,value) in db[key].items():\n",
    "        print(name + '=>' + repr(value),file=open('people-file','w'))\n",
    "    print('endrec.',file=open('people-file','w'))\n",
    "print('enddb',file=open('people-file','w'))\n",
    "dbfile.close()"
   ]
  },
  {
   "cell_type": "code",
   "execution_count": 226,
   "metadata": {},
   "outputs": [
    {
     "name": "stdout",
     "output_type": "stream",
     "text": [
      "enddb\n"
     ]
    }
   ],
   "source": [
    "for line in open('people-file'):\n",
    "    print(line,end='')"
   ]
  },
  {
   "cell_type": "code",
   "execution_count": null,
   "metadata": {},
   "outputs": [],
   "source": []
  }
 ],
 "metadata": {
  "kernelspec": {
   "display_name": "Python 3",
   "language": "python",
   "name": "python3"
  },
  "language_info": {
   "codemirror_mode": {
    "name": "ipython",
    "version": 3
   },
   "file_extension": ".py",
   "mimetype": "text/x-python",
   "name": "python",
   "nbconvert_exporter": "python",
   "pygments_lexer": "ipython3",
   "version": "3.6.7"
  }
 },
 "nbformat": 4,
 "nbformat_minor": 2
}
