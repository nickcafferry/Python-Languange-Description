{
 "cells": [
  {
   "cell_type": "code",
   "execution_count": 1,
   "metadata": {},
   "outputs": [
    {
     "data": {
      "text/plain": [
       "[1,\n",
       " 9,\n",
       " 25,\n",
       " 49,\n",
       " 81,\n",
       " 121,\n",
       " 169,\n",
       " 225,\n",
       " 289,\n",
       " 361,\n",
       " 441,\n",
       " 529,\n",
       " 625,\n",
       " 729,\n",
       " 841,\n",
       " 961,\n",
       " 1089,\n",
       " 1225,\n",
       " 1369,\n",
       " 1521,\n",
       " 1681,\n",
       " 1849,\n",
       " 2025,\n",
       " 2209,\n",
       " 2401,\n",
       " 2601,\n",
       " 2809,\n",
       " 3025,\n",
       " 3249,\n",
       " 3481,\n",
       " 3721,\n",
       " 3969,\n",
       " 4225,\n",
       " 4489,\n",
       " 4761,\n",
       " 5041,\n",
       " 5329,\n",
       " 5625,\n",
       " 5929,\n",
       " 6241,\n",
       " 6561,\n",
       " 6889,\n",
       " 7225,\n",
       " 7569,\n",
       " 7921,\n",
       " 8281,\n",
       " 8649,\n",
       " 9025,\n",
       " 9409,\n",
       " 9801]"
      ]
     },
     "execution_count": 1,
     "metadata": {},
     "output_type": "execute_result"
    }
   ],
   "source": [
    "[i**2 for i in range(1,100,2)] # List Comprehensions"
   ]
  },
  {
   "cell_type": "code",
   "execution_count": 2,
   "metadata": {},
   "outputs": [
    {
     "data": {
      "text/plain": [
       "9801"
      ]
     },
     "execution_count": 2,
     "metadata": {},
     "output_type": "execute_result"
    }
   ],
   "source": [
    "99**2"
   ]
  },
  {
   "cell_type": "code",
   "execution_count": 4,
   "metadata": {},
   "outputs": [
    {
     "data": {
      "text/plain": [
       "{0: 'In',\n",
       " 1: 'the',\n",
       " 2: 'prior',\n",
       " 3: 'chapter',\n",
       " 4: 'we',\n",
       " 5: 'met',\n",
       " 6: 'Python’s',\n",
       " 7: 'two',\n",
       " 8: 'looping',\n",
       " 9: 'statements,',\n",
       " 10: 'while',\n",
       " 11: 'and',\n",
       " 12: 'for.',\n",
       " 13: 'Although',\n",
       " 14: 'they',\n",
       " 15: 'can',\n",
       " 16: 'handle',\n",
       " 17: 'most',\n",
       " 18: 'repetitive',\n",
       " 19: 'tasks',\n",
       " 20: 'programs',\n",
       " 21: 'need',\n",
       " 22: 'to',\n",
       " 23: 'perform,',\n",
       " 24: 'the',\n",
       " 25: 'need',\n",
       " 26: 'to',\n",
       " 27: 'iterate',\n",
       " 28: 'over',\n",
       " 29: 'sequences',\n",
       " 30: 'is',\n",
       " 31: 'so',\n",
       " 32: 'common',\n",
       " 33: 'and',\n",
       " 34: 'pervasive',\n",
       " 35: 'that',\n",
       " 36: 'Python',\n",
       " 37: 'provides',\n",
       " 38: 'additional',\n",
       " 39: 'tools',\n",
       " 40: 'to',\n",
       " 41: 'make',\n",
       " 42: 'it',\n",
       " 43: 'simpler',\n",
       " 44: 'and',\n",
       " 45: 'more',\n",
       " 46: 'efficient.'}"
      ]
     },
     "execution_count": 4,
     "metadata": {},
     "output_type": "execute_result"
    }
   ],
   "source": [
    "S = \"\"\"In the prior chapter we met Python’s two looping statements, while and for. Although\n",
    "they can handle most repetitive tasks programs need to perform, the need to iterate\n",
    "over sequences is so common and pervasive that Python provides additional tools to\n",
    "make it simpler and more efficient.\"\"\"\n",
    "{v: k for v, k in enumerate(S.split())} # Dict comprehensions"
   ]
  },
  {
   "cell_type": "code",
   "execution_count": 5,
   "metadata": {},
   "outputs": [],
   "source": [
    "L1 = list(range(1,100,2))"
   ]
  },
  {
   "cell_type": "code",
   "execution_count": 6,
   "metadata": {},
   "outputs": [],
   "source": [
    "L2 = list(range(0,101,2))"
   ]
  },
  {
   "cell_type": "code",
   "execution_count": 35,
   "metadata": {},
   "outputs": [
    {
     "data": {
      "text/plain": [
       "<zip at 0x29085895948>"
      ]
     },
     "execution_count": 35,
     "metadata": {},
     "output_type": "execute_result"
    }
   ],
   "source": [
    "zip(L1,L2)"
   ]
  },
  {
   "cell_type": "code",
   "execution_count": 13,
   "metadata": {},
   "outputs": [
    {
     "data": {
      "text/plain": [
       "enumerate"
      ]
     },
     "execution_count": 13,
     "metadata": {},
     "output_type": "execute_result"
    }
   ],
   "source": [
    "type(enumerate(L1))"
   ]
  },
  {
   "cell_type": "code",
   "execution_count": 14,
   "metadata": {},
   "outputs": [
    {
     "name": "stdout",
     "output_type": "stream",
     "text": [
      "1 ==> 0\n",
      "3 ==> 2\n",
      "5 ==> 4\n",
      "7 ==> 6\n",
      "9 ==> 8\n",
      "11 ==> 10\n",
      "13 ==> 12\n",
      "15 ==> 14\n",
      "17 ==> 16\n",
      "19 ==> 18\n",
      "21 ==> 20\n",
      "23 ==> 22\n",
      "25 ==> 24\n",
      "27 ==> 26\n",
      "29 ==> 28\n",
      "31 ==> 30\n",
      "33 ==> 32\n",
      "35 ==> 34\n",
      "37 ==> 36\n",
      "39 ==> 38\n",
      "41 ==> 40\n",
      "43 ==> 42\n",
      "45 ==> 44\n",
      "47 ==> 46\n",
      "49 ==> 48\n",
      "51 ==> 50\n",
      "53 ==> 52\n",
      "55 ==> 54\n",
      "57 ==> 56\n",
      "59 ==> 58\n",
      "61 ==> 60\n",
      "63 ==> 62\n",
      "65 ==> 64\n",
      "67 ==> 66\n",
      "69 ==> 68\n",
      "71 ==> 70\n",
      "73 ==> 72\n",
      "75 ==> 74\n",
      "77 ==> 76\n",
      "79 ==> 78\n",
      "81 ==> 80\n",
      "83 ==> 82\n",
      "85 ==> 84\n",
      "87 ==> 86\n",
      "89 ==> 88\n",
      "91 ==> 90\n",
      "93 ==> 92\n",
      "95 ==> 94\n",
      "97 ==> 96\n",
      "99 ==> 98\n"
     ]
    }
   ],
   "source": [
    "for i, j in zip(L1, L2):\n",
    "    print(i,'==>', j)"
   ]
  },
  {
   "cell_type": "markdown",
   "metadata": {},
   "source": [
    "# Iterators：A First Look"
   ]
  },
  {
   "cell_type": "raw",
   "metadata": {},
   "source": [
    ">>> The for loop can work on any sequence type in Python\n",
    "Sequence types: lists, tuples, strings, files, zip object, enumerate, map, range, np.array, np.arange, etc.."
   ]
  },
  {
   "cell_type": "code",
   "execution_count": 26,
   "metadata": {},
   "outputs": [
    {
     "name": "stdout",
     "output_type": "stream",
     "text": [
      "91 49 44 32 51 44 32 53 44 32 55 44 32 57 44 32 49 49 44 32 49 51 44 32 49 53 44 32 49 55 44 32 49 57 44 32 50 49 44 32 50 51 44 32 50 53 44 32 50 55 44 32 50 57 44 32 51 49 44 32 51 51 44 32 51 53 44 32 51 55 44 32 51 57 44 32 52 49 44 32 52 51 44 32 52 53 44 32 52 55 44 32 52 57 44 32 53 49 44 32 53 51 44 32 53 53 44 32 53 55 44 32 53 57 44 32 54 49 44 32 54 51 44 32 54 53 44 32 54 55 44 32 54 57 44 32 55 49 44 32 55 51 44 32 55 53 44 32 55 55 44 32 55 57 44 32 56 49 44 32 56 51 44 32 56 53 44 32 56 55 44 32 56 57 44 32 57 49 44 32 57 51 44 32 57 53 44 32 57 55 44 32 57 57 93 "
     ]
    }
   ],
   "source": [
    "for i in map(ord, str(L1)):\n",
    "    print(i, end = ' ')"
   ]
  },
  {
   "cell_type": "code",
   "execution_count": 29,
   "metadata": {},
   "outputs": [],
   "source": [
    "import numpy as np"
   ]
  },
  {
   "cell_type": "code",
   "execution_count": 32,
   "metadata": {},
   "outputs": [
    {
     "name": "stdout",
     "output_type": "stream",
     "text": [
      "1 3 5 7 9 11 13 15 17 19 21 23 25 27 29 31 33 35 37 39 41 43 45 47 49 51 53 55 57 59 61 63 65 67 69 71 73 75 77 79 81 83 85 87 89 91 93 95 97 99 "
     ]
    }
   ],
   "source": [
    "for i in np.arange(1,100,2):\n",
    "    print(i, end = ' ')"
   ]
  },
  {
   "cell_type": "code",
   "execution_count": 33,
   "metadata": {},
   "outputs": [
    {
     "data": {
      "text/plain": [
       "True"
      ]
     },
     "execution_count": 33,
     "metadata": {},
     "output_type": "execute_result"
    }
   ],
   "source": [
    "67 in np.arange(1,100,2)"
   ]
  },
  {
   "cell_type": "raw",
   "metadata": {},
   "source": [
    ">>> sequence type = iterable object"
   ]
  },
  {
   "cell_type": "raw",
   "metadata": {},
   "source": [
    "An iterable object: 1. A physically stored sequence (Physically exists)\n",
    "                    2. An object that produces one result at a time (in the context of an iteration tool) (virtually exists)"
   ]
  },
  {
   "cell_type": "code",
   "execution_count": 39,
   "metadata": {},
   "outputs": [
    {
     "data": {
      "text/plain": [
       "(3, 2)"
      ]
     },
     "execution_count": 39,
     "metadata": {},
     "output_type": "execute_result"
    }
   ],
   "source": [
    "list(zip(L1,L2))[1]"
   ]
  },
  {
   "cell_type": "code",
   "execution_count": 40,
   "metadata": {},
   "outputs": [],
   "source": [
    "L = []\n",
    "for i in np.arange(1,100,2):\n",
    "    i +=1\n",
    "    L.append(i)"
   ]
  },
  {
   "cell_type": "markdown",
   "metadata": {},
   "source": [
    "# The Iteration Protol: File Iterators "
   ]
  },
  {
   "cell_type": "code",
   "execution_count": 86,
   "metadata": {},
   "outputs": [],
   "source": [
    "file = open('woshicik.txt',encoding = 'utf-8')"
   ]
  },
  {
   "cell_type": "raw",
   "metadata": {},
   "source": [
    ">>> The difference between readline method and __next__ method lies in that readline returns an empty string\n",
    "at the end of file while the later returns a built-in StopIteration exception"
   ]
  },
  {
   "cell_type": "code",
   "execution_count": 74,
   "metadata": {},
   "outputs": [],
   "source": [
    "for i in range(987):\n",
    "    file.__next__()"
   ]
  },
  {
   "cell_type": "code",
   "execution_count": 76,
   "metadata": {},
   "outputs": [
    {
     "data": {
      "text/plain": [
       "''"
      ]
     },
     "execution_count": 76,
     "metadata": {},
     "output_type": "execute_result"
    }
   ],
   "source": [
    "file.readline()"
   ]
  },
  {
   "cell_type": "raw",
   "metadata": {},
   "source": [
    "* iterable == iterator\n",
    "iterable: support iter function # For example; file\n",
    "iterator: an object return by iter, support next function"
   ]
  },
  {
   "cell_type": "code",
   "execution_count": 87,
   "metadata": {},
   "outputs": [],
   "source": [
    "iter(file) # because file supports iter()\n",
    "I = iter(file) # I is iterator because it is an object return by iter()"
   ]
  },
  {
   "cell_type": "code",
   "execution_count": 97,
   "metadata": {},
   "outputs": [
    {
     "data": {
      "text/plain": [
       "'暗影烈焰\\n'"
      ]
     },
     "execution_count": 97,
     "metadata": {},
     "output_type": "execute_result"
    }
   ],
   "source": [
    "next(I)"
   ]
  },
  {
   "cell_type": "code",
   "execution_count": 98,
   "metadata": {},
   "outputs": [],
   "source": [
    "S = \"\"\"The net effect of this magic is that, as mentioned in Chapter 9, the best way to read a\n",
    "text file line by line today is to not read it at all—instead, allow the for loop to automatically call __next__ to advance to the next line on each iteration. The file object’s\n",
    "iterator will do the work of automatically loading lines as you go. The following, for\n",
    "example, reads a file line by line, printing the uppercase version of each line along the\n",
    "way, without ever explicitly reading from the file at all:\"\"\""
   ]
  },
  {
   "cell_type": "code",
   "execution_count": 2,
   "metadata": {},
   "outputs": [
    {
     "name": "stdout",
     "output_type": "stream",
     "text": [
      "HELLO, BUDDY! I AM FINE. HOW ABOUT YOU? YOU KNOW DURING THE OUTBREAK OF COVID-19, I'M PLAYING VIDEO GAMES ALL THE TIME. I REALLY HAVE A GOOD TIME, MAN. DON'T WORRY. BTW, WHAT ARE YOU RECENTLY UP TO?THIS VIRUS IS REALLY CRAZY. I HEARD THAT MANY FACTORIES IN THE WORLD HAVE BEEN SHUT DOWN TRY TO DO SOMETHING, MAN. YOU CAN MAKE VIDEO CHATS WITH YOUR FAMILIES AND YOUR FRIENDS LIKE ME.\n"
     ]
    }
   ],
   "source": [
    "for line in open('script1.txt','r'):\n",
    "    print(line.upper())"
   ]
  },
  {
   "cell_type": "code",
   "execution_count": 38,
   "metadata": {},
   "outputs": [
    {
     "data": {
      "text/plain": [
       "88"
      ]
     },
     "execution_count": 38,
     "metadata": {},
     "output_type": "execute_result"
    }
   ],
   "source": [
    "f = open('script1.txt','w') #没打开一次，运行write命令就会覆盖相应的文件内容\n",
    "f.write('This interface is exactly what we call the iteration protocol in Python. Any object with')"
   ]
  },
  {
   "cell_type": "code",
   "execution_count": 39,
   "metadata": {},
   "outputs": [],
   "source": [
    "f.close()"
   ]
  },
  {
   "cell_type": "code",
   "execution_count": 17,
   "metadata": {},
   "outputs": [],
   "source": [
    "f = open('script1.txt','r')"
   ]
  },
  {
   "cell_type": "code",
   "execution_count": 40,
   "metadata": {},
   "outputs": [
    {
     "name": "stdout",
     "output_type": "stream",
     "text": [
      "THIS INTERFACE IS EXACTLY WHAT WE CALL THE ITERATION PROTOCOL IN PYTHON. ANY OBJECT WITH\n"
     ]
    }
   ],
   "source": [
    "for line in open('script1.txt','r'):\n",
    "    print(line.upper())"
   ]
  },
  {
   "cell_type": "code",
   "execution_count": 22,
   "metadata": {},
   "outputs": [
    {
     "data": {
      "text/plain": [
       "89"
      ]
     },
     "execution_count": 22,
     "metadata": {},
     "output_type": "execute_result"
    }
   ],
   "source": [
    "open('script1.txt','w').write('text file line by line today is to not read it at all—instead, allow the for loop to auto')"
   ]
  },
  {
   "cell_type": "code",
   "execution_count": 25,
   "metadata": {},
   "outputs": [
    {
     "name": "stdout",
     "output_type": "stream",
     "text": [
      "THE NET EFFECT OF THIS MAGIC IS THAT, AS MENTIONED IN CHAPTER 9, THE BEST WAY TO READ A \n",
      "\n",
      "TEXT FILE LINE BY LINE TODAY IS TO NOT READ IT AT ALL-INSTEAD, ALLOW THE FOR LOOP TO AUTO- \n",
      "\n"
     ]
    }
   ],
   "source": [
    "for line in open('script1.txt','r'):\n",
    "    print(line.upper())"
   ]
  },
  {
   "cell_type": "markdown",
   "metadata": {},
   "source": [
    "# The best practice to load file's content into memory is to use file iterators to read by lines, rather than use the readline method (the older way)"
   ]
  },
  {
   "cell_type": "raw",
   "metadata": {},
   "source": [
    ">>> Three reasons:\n",
    "    1. Simlest to code;\n",
    "    2. Quickest to run;\n",
    "    3. Save the memory usage."
   ]
  },
  {
   "cell_type": "code",
   "execution_count": 27,
   "metadata": {},
   "outputs": [],
   "source": [
    "file2 = open('ceshiwenjian2.txt','w')"
   ]
  },
  {
   "cell_type": "code",
   "execution_count": 28,
   "metadata": {},
   "outputs": [
    {
     "data": {
      "text/plain": [
       "90"
      ]
     },
     "execution_count": 28,
     "metadata": {},
     "output_type": "execute_result"
    }
   ],
   "source": [
    "file2.write('This interface is exactly what we call the iteration protocol in Python. Any object with \\n')"
   ]
  },
  {
   "cell_type": "code",
   "execution_count": 29,
   "metadata": {},
   "outputs": [
    {
     "data": {
      "text/plain": [
       "86"
      ]
     },
     "execution_count": 29,
     "metadata": {},
     "output_type": "execute_result"
    }
   ],
   "source": [
    "file2.write('a __next__ method to advance to a next result, which raises StopIteration at the end \\n')"
   ]
  },
  {
   "cell_type": "code",
   "execution_count": 30,
   "metadata": {},
   "outputs": [],
   "source": [
    "file2.close()"
   ]
  },
  {
   "cell_type": "code",
   "execution_count": 32,
   "metadata": {},
   "outputs": [
    {
     "data": {
      "text/plain": [
       "'This interface is exactly what we call the iteration protocol in Python. Any object with \\na __next__ method to advance to a next result, which raises StopIteration at the end \\n'"
      ]
     },
     "execution_count": 32,
     "metadata": {},
     "output_type": "execute_result"
    }
   ],
   "source": [
    "open('ceshiwenjian2.txt','r').read()"
   ]
  },
  {
   "cell_type": "code",
   "execution_count": 43,
   "metadata": {},
   "outputs": [],
   "source": [
    "from sympy import *"
   ]
  },
  {
   "cell_type": "code",
   "execution_count": 44,
   "metadata": {},
   "outputs": [
    {
     "name": "stdout",
     "output_type": "stream",
     "text": [
      "IPython console for SymPy 1.4 (Python 3.7.4-64-bit) (ground types: python)\n",
      "\n",
      "These commands were executed:\n",
      ">>> from __future__ import division\n",
      ">>> from sympy import *\n",
      ">>> x, y, z, t = symbols('x y z t')\n",
      ">>> k, m, n = symbols('k m n', integer=True)\n",
      ">>> f, g, h = symbols('f g h', cls=Function)\n",
      ">>> init_printing()\n",
      "\n",
      "Documentation can be found at https://docs.sympy.org/1.4/\n",
      "\n"
     ]
    }
   ],
   "source": [
    "init_session()"
   ]
  },
  {
   "cell_type": "code",
   "execution_count": 45,
   "metadata": {},
   "outputs": [
    {
     "data": {
      "image/png": "[encoded data removed]",
      "text/latex": [
       "$\\displaystyle \\left[\\begin{matrix}1 & 0 & 0 & 0\\\\0 & 1 & 0 & 0\\\\0 & 0 & 1 & 0\\\\0 & 0 & 0 & 1\\end{matrix}\\right]$"
      ],
      "text/plain": [
       "⎡1  0  0  0⎤\n",
       "⎢          ⎥\n",
       "⎢0  1  0  0⎥\n",
       "⎢          ⎥\n",
       "⎢0  0  1  0⎥\n",
       "⎢          ⎥\n",
       "⎣0  0  0  1⎦"
      ]
     },
     "execution_count": 45,
     "metadata": {},
     "output_type": "execute_result"
    }
   ],
   "source": [
    "eye(4)"
   ]
  },
  {
   "cell_type": "code",
   "execution_count": 51,
   "metadata": {},
   "outputs": [],
   "source": [
    "from sympy import sin, Interval\n",
    "from sympy.abc import theta"
   ]
  },
  {
   "cell_type": "code",
   "execution_count": 63,
   "metadata": {},
   "outputs": [
    {
     "data": {
      "image/png": "[encoded data removed]",
      "text/latex": [
       "$\\displaystyle \\left[ 0.0, \\  3.14159265358979, \\  -1.89334760525806 - 0.596133894890837 i, \\  -1.89334760525806 + 0.596133894890837 i, \\  1.89334760525806 - 0.596133894890837 i, \\  1.89334760525806 + 0.596133894890837 i\\right]$"
      ],
      "text/plain": [
       "[0.0, 3.14159265358979, -1.89334760525806 - 0.596133894890837⋅ⅈ, -1.8933476052\n",
       "5806 + 0.596133894890837⋅ⅈ, 1.89334760525806 - 0.596133894890837⋅ⅈ, 1.89334760\n",
       "525806 + 0.596133894890837⋅ⅈ]"
      ]
     },
     "execution_count": 63,
     "metadata": {},
     "output_type": "execute_result"
    }
   ],
   "source": [
    "solve(sin(theta) + 1/2*sin(2*theta) + 1/3*sin(3*theta), theta, domain = Interval(0, pi))"
   ]
  },
  {
   "cell_type": "code",
   "execution_count": 57,
   "metadata": {},
   "outputs": [
    {
     "data": {
      "image/png": "[encoded data removed]",
      "text/latex": [
       "$\\displaystyle \\sin{\\left(\\theta \\right)} + 0.5 \\sin{\\left(2 \\theta \\right)} + 0.333333333333333 \\sin{\\left(3 \\theta \\right)}$"
      ],
      "text/plain": [
       "sin(θ) + 0.5⋅sin(2⋅θ) + 0.333333333333333⋅sin(3⋅θ)"
      ]
     },
     "execution_count": 57,
     "metadata": {},
     "output_type": "execute_result"
    }
   ],
   "source": [
    "simplify(sin(theta) + 1/2*sin(2*theta) + 1/3*sin(3*theta))"
   ]
  },
  {
   "cell_type": "code",
   "execution_count": 65,
   "metadata": {},
   "outputs": [],
   "source": [
    "@vectorize(0,1)\n",
    "def vdiff(f,y):\n",
    "    return diff(f,y)"
   ]
  },
  {
   "cell_type": "code",
   "execution_count": 66,
   "metadata": {},
   "outputs": [
    {
     "data": {
      "image/png": "[encoded data removed]",
      "text/latex": [
       "$\\displaystyle \\left[ \\left[ \\frac{\\partial}{\\partial x} f{\\left(x,y,z \\right)}, \\  \\frac{\\partial}{\\partial y} f{\\left(x,y,z \\right)}, \\  \\frac{\\partial}{\\partial z} f{\\left(x,y,z \\right)}\\right], \\  \\left[ \\frac{\\partial}{\\partial x} g{\\left(x,y,z \\right)}, \\  \\frac{\\partial}{\\partial y} g{\\left(x,y,z \\right)}, \\  \\frac{\\partial}{\\partial z} g{\\left(x,y,z \\right)}\\right], \\  \\left[ \\frac{\\partial}{\\partial x} h{\\left(x,y,z \\right)}, \\  \\frac{\\partial}{\\partial y} h{\\left(x,y,z \\right)}, \\  \\frac{\\partial}{\\partial z} h{\\left(x,y,z \\right)}\\right]\\right]$"
      ],
      "text/plain": [
       "⎡⎡∂               ∂               ∂             ⎤  ⎡∂               ∂         \n",
       "⎢⎢──(f(x, y, z)), ──(f(x, y, z)), ──(f(x, y, z))⎥, ⎢──(g(x, y, z)), ──(g(x, y,\n",
       "⎣⎣∂x              ∂y              ∂z            ⎦  ⎣∂x              ∂y        \n",
       "\n",
       "      ∂             ⎤  ⎡∂               ∂               ∂             ⎤⎤\n",
       " z)), ──(g(x, y, z))⎥, ⎢──(h(x, y, z)), ──(h(x, y, z)), ──(h(x, y, z))⎥⎥\n",
       "      ∂z            ⎦  ⎣∂x              ∂y              ∂z            ⎦⎦"
      ]
     },
     "execution_count": 66,
     "metadata": {},
     "output_type": "execute_result"
    }
   ],
   "source": [
    "vdiff([f(x, y, z), g(x, y, z), h(x, y, z)], [x, y, z])"
   ]
  },
  {
   "cell_type": "code",
   "execution_count": 67,
   "metadata": {},
   "outputs": [
    {
     "data": {
      "image/png": "[encoded data removed]",
      "text/latex": [
       "$\\displaystyle \\left[ \\frac{\\partial}{\\partial x} s{\\left(x,y,z \\right)}, \\  \\frac{\\partial}{\\partial y} s{\\left(x,y,z \\right)}, \\  \\frac{\\partial}{\\partial z} s{\\left(x,y,z \\right)}\\right]$"
      ],
      "text/plain": [
       "⎡∂               ∂               ∂             ⎤\n",
       "⎢──(s(x, y, z)), ──(s(x, y, z)), ──(s(x, y, z))⎥\n",
       "⎣∂x              ∂y              ∂z            ⎦"
      ]
     },
     "execution_count": 67,
     "metadata": {},
     "output_type": "execute_result"
    }
   ],
   "source": [
    "s = symbols(\"s\",cls=Function)\n",
    "vdiff(s(x,y,z),[x,y,z])"
   ]
  },
  {
   "cell_type": "code",
   "execution_count": 69,
   "metadata": {},
   "outputs": [
    {
     "data": {
      "image/png": "[encoded data removed]",
      "text/latex": [
       "$\\displaystyle (\\frac{\\partial}{\\partial \\mathbf{{x}_{D}}} s{\\left(\\mathbf{{x}_{D}},\\mathbf{{y}_{D}},\\mathbf{{z}_{D}} \\right)})\\mathbf{\\hat{i}_{D}} + (\\frac{\\partial}{\\partial \\mathbf{{y}_{D}}} s{\\left(\\mathbf{{x}_{D}},\\mathbf{{y}_{D}},\\mathbf{{z}_{D}} \\right)})\\mathbf{\\hat{j}_{D}} + (\\frac{\\partial}{\\partial \\mathbf{{z}_{D}}} s{\\left(\\mathbf{{x}_{D}},\\mathbf{{y}_{D}},\\mathbf{{z}_{D}} \\right)})\\mathbf{\\hat{k}_{D}}$"
      ],
      "text/plain": [
       "(Derivative(s(D.x, D.y, D.z), D.x))*D.i + (Derivative(s(D.x, D.y, D.z), D.y))*D.j + (Derivative(s(D.x, D.y, D.z), D.z))*D.k"
      ]
     },
     "execution_count": 69,
     "metadata": {},
     "output_type": "execute_result"
    }
   ],
   "source": [
    "diff(s,D.x)*D.i + diff(s, D.y)*D.j +  diff(s,D.z)*D.k"
   ]
  },
  {
   "cell_type": "markdown",
   "metadata": {},
   "source": [
    "# 比如说解决比较常规的一元二次方程，a*x^2 + b*x + c = 0"
   ]
  },
  {
   "cell_type": "code",
   "execution_count": 70,
   "metadata": {},
   "outputs": [],
   "source": [
    "a, b, c = symbols('a b c')"
   ]
  },
  {
   "cell_type": "code",
   "execution_count": 71,
   "metadata": {},
   "outputs": [
    {
     "data": {
      "image/png": "[encoded data removed]",
      "text/latex": [
       "$\\displaystyle \\left\\{- \\frac{b}{2 a} - \\frac{\\sqrt{- 4 a c + b^{2}}}{2 a}, - \\frac{b}{2 a} + \\frac{\\sqrt{- 4 a c + b^{2}}}{2 a}\\right\\}$"
      ],
      "text/plain": [
       "⎧           _____________             _____________⎫\n",
       "⎪          ╱           2             ╱           2 ⎪\n",
       "⎨   b    ╲╱  -4⋅a⋅c + b       b    ╲╱  -4⋅a⋅c + b  ⎬\n",
       "⎪- ─── - ────────────────, - ─── + ────────────────⎪\n",
       "⎩  2⋅a         2⋅a           2⋅a         2⋅a       ⎭"
      ]
     },
     "execution_count": 71,
     "metadata": {},
     "output_type": "execute_result"
    }
   ],
   "source": [
    "solveset(a*x**2 + b*x + c, x)"
   ]
  },
  {
   "cell_type": "markdown",
   "metadata": {},
   "source": [
    "# 解决更高级的一元三次方程，ax^3 + bx^2 + cx + d = 0 "
   ]
  },
  {
   "cell_type": "code",
   "execution_count": 72,
   "metadata": {},
   "outputs": [],
   "source": [
    "d = symbols('d')"
   ]
  },
  {
   "cell_type": "code",
   "execution_count": 73,
   "metadata": {},
   "outputs": [
    {
     "data": {
      "image/png": "[encoded data removed]",
      "text/latex": [
       "$\\displaystyle \\left\\{- \\frac{- \\frac{3 c}{a} + \\frac{b^{2}}{a^{2}}}{3 \\sqrt[3]{\\frac{\\sqrt{- 4 \\left(- \\frac{3 c}{a} + \\frac{b^{2}}{a^{2}}\\right)^{3} + \\left(\\frac{27 d}{a} - \\frac{9 b c}{a^{2}} + \\frac{2 b^{3}}{a^{3}}\\right)^{2}}}{2} + \\frac{27 d}{2 a} - \\frac{9 b c}{2 a^{2}} + \\frac{b^{3}}{a^{3}}}} - \\frac{\\sqrt[3]{\\frac{\\sqrt{- 4 \\left(- \\frac{3 c}{a} + \\frac{b^{2}}{a^{2}}\\right)^{3} + \\left(\\frac{27 d}{a} - \\frac{9 b c}{a^{2}} + \\frac{2 b^{3}}{a^{3}}\\right)^{2}}}{2} + \\frac{27 d}{2 a} - \\frac{9 b c}{2 a^{2}} + \\frac{b^{3}}{a^{3}}}}{3} - \\frac{b}{3 a}, - \\frac{- \\frac{3 c}{a} + \\frac{b^{2}}{a^{2}}}{3 \\left(- \\frac{1}{2} - \\frac{\\sqrt{3} i}{2}\\right) \\sqrt[3]{\\frac{\\sqrt{- 4 \\left(- \\frac{3 c}{a} + \\frac{b^{2}}{a^{2}}\\right)^{3} + \\left(\\frac{27 d}{a} - \\frac{9 b c}{a^{2}} + \\frac{2 b^{3}}{a^{3}}\\right)^{2}}}{2} + \\frac{27 d}{2 a} - \\frac{9 b c}{2 a^{2}} + \\frac{b^{3}}{a^{3}}}} - \\frac{\\left(- \\frac{1}{2} - \\frac{\\sqrt{3} i}{2}\\right) \\sqrt[3]{\\frac{\\sqrt{- 4 \\left(- \\frac{3 c}{a} + \\frac{b^{2}}{a^{2}}\\right)^{3} + \\left(\\frac{27 d}{a} - \\frac{9 b c}{a^{2}} + \\frac{2 b^{3}}{a^{3}}\\right)^{2}}}{2} + \\frac{27 d}{2 a} - \\frac{9 b c}{2 a^{2}} + \\frac{b^{3}}{a^{3}}}}{3} - \\frac{b}{3 a}, - \\frac{- \\frac{3 c}{a} + \\frac{b^{2}}{a^{2}}}{3 \\left(- \\frac{1}{2} + \\frac{\\sqrt{3} i}{2}\\right) \\sqrt[3]{\\frac{\\sqrt{- 4 \\left(- \\frac{3 c}{a} + \\frac{b^{2}}{a^{2}}\\right)^{3} + \\left(\\frac{27 d}{a} - \\frac{9 b c}{a^{2}} + \\frac{2 b^{3}}{a^{3}}\\right)^{2}}}{2} + \\frac{27 d}{2 a} - \\frac{9 b c}{2 a^{2}} + \\frac{b^{3}}{a^{3}}}} - \\frac{\\left(- \\frac{1}{2} + \\frac{\\sqrt{3} i}{2}\\right) \\sqrt[3]{\\frac{\\sqrt{- 4 \\left(- \\frac{3 c}{a} + \\frac{b^{2}}{a^{2}}\\right)^{3} + \\left(\\frac{27 d}{a} - \\frac{9 b c}{a^{2}} + \\frac{2 b^{3}}{a^{3}}\\right)^{2}}}{2} + \\frac{27 d}{2 a} - \\frac{9 b c}{2 a^{2}} + \\frac{b^{3}}{a^{3}}}}{3} - \\frac{b}{3 a}\\right\\}$"
      ],
      "text/plain": [
       "⎧                                                                             \n",
       "⎪                                                                             \n",
       "⎪                                                                             \n",
       "⎪                                                                             \n",
       "⎪                                                                             \n",
       "⎪                                                                             \n",
       "⎪                                                 2                           \n",
       "⎪                                          3⋅c   b                            \n",
       "⎪                                        - ─── + ──                           \n",
       "⎪                                           a     2                           \n",
       "⎪                                                a                            \n",
       "⎨- ───────────────────────────────────────────────────────────────────────────\n",
       "⎪               ______________________________________________________________\n",
       "⎪              ╱        ____________________________________________          \n",
       "⎪             ╱        ╱                 3                        2           \n",
       "⎪            ╱        ╱      ⎛         2⎞    ⎛                  3⎞            \n",
       "⎪           ╱        ╱       ⎜  3⋅c   b ⎟    ⎜27⋅d   9⋅b⋅c   2⋅b ⎟            \n",
       "⎪          ╱        ╱    - 4⋅⎜- ─── + ──⎟  + ⎜──── - ───── + ────⎟            \n",
       "⎪         ╱        ╱         ⎜   a     2⎟    ⎜ a        2      3 ⎟            \n",
       "⎪        ╱       ╲╱          ⎝        a ⎠    ⎝         a      a  ⎠     27⋅d   \n",
       "⎪  3⋅   ╱        ─────────────────────────────────────────────────── + ──── - \n",
       "⎪    3 ╱                                  2                            2⋅a    \n",
       "⎩    ╲╱                                                                       \n",
       "\n",
       "                         _____________________________________________________\n",
       "                        ╱        ____________________________________________ \n",
       "                       ╱        ╱                 3                        2  \n",
       "                      ╱        ╱      ⎛         2⎞    ⎛                  3⎞   \n",
       "                     ╱        ╱       ⎜  3⋅c   b ⎟    ⎜27⋅d   9⋅b⋅c   2⋅b ⎟   \n",
       "                    ╱        ╱    - 4⋅⎜- ─── + ──⎟  + ⎜──── - ───── + ────⎟   \n",
       "                   ╱        ╱         ⎜   a     2⎟    ⎜ a        2      3 ⎟   \n",
       "                  ╱       ╲╱          ⎝        a ⎠    ⎝         a      a  ⎠   \n",
       "                 ╱        ─────────────────────────────────────────────────── \n",
       "              3 ╱                                  2                          \n",
       "              ╲╱                                                              \n",
       "─────────── - ────────────────────────────────────────────────────────────────\n",
       "___________                                            3                      \n",
       "                                                                              \n",
       "                                                                              \n",
       "                                                                              \n",
       "                                                                              \n",
       "                                                                              \n",
       "         3                                                                    \n",
       "9⋅b⋅c   b                                                                     \n",
       "───── + ──                                                                    \n",
       "    2    3                                                                    \n",
       " 2⋅a    a                                                                     \n",
       "\n",
       "____________________                                                          \n",
       "                                                                              \n",
       "                                                                              \n",
       "                                                                              \n",
       "                                                                              \n",
       "                                                                              \n",
       "                  3                                                           \n",
       "  27⋅d   9⋅b⋅c   b                                                           3\n",
       "+ ──── - ───── + ──                                                        - ─\n",
       "  2⋅a        2    3                                                           \n",
       "          2⋅a    a      b                                                     \n",
       "──────────────────── - ───, - ────────────────────────────────────────────────\n",
       "                       3⋅a                              ______________________\n",
       "                                                       ╱        ______________\n",
       "                                                      ╱        ╱              \n",
       "                                                     ╱        ╱      ⎛        \n",
       "                                                    ╱        ╱       ⎜  3⋅c   \n",
       "                                                   ╱        ╱    - 4⋅⎜- ─── + \n",
       "                                                  ╱        ╱         ⎜   a    \n",
       "                                ⎛  1   √3⋅ⅈ⎞     ╱       ╲╱          ⎝        \n",
       "                              3⋅⎜- ─ - ────⎟⋅   ╱        ─────────────────────\n",
       "                                ⎝  2    2  ⎠ 3 ╱                              \n",
       "                                             ╲╱                               \n",
       "\n",
       "                                                                              \n",
       "                                                                             ╱\n",
       "                                                                            ╱ \n",
       "                                                                           ╱  \n",
       "                                                                          ╱   \n",
       "                                                                         ╱    \n",
       "      2                                                                 ╱     \n",
       "⋅c   b                                                ⎛  1   √3⋅ⅈ⎞     ╱      \n",
       "── + ──                                               ⎜- ─ - ────⎟⋅   ╱       \n",
       "a     2                                               ⎝  2    2  ⎠ 3 ╱        \n",
       "     a                                                             ╲╱         \n",
       "─────────────────────────────────────────────────── - ────────────────────────\n",
       "___________________________________________________                           \n",
       "______________________________                                                \n",
       "   3                        2                                                 \n",
       " 2⎞    ⎛                  3⎞                                                  \n",
       "b ⎟    ⎜27⋅d   9⋅b⋅c   2⋅b ⎟                                                  \n",
       "──⎟  + ⎜──── - ───── + ────⎟                                                  \n",
       " 2⎟    ⎜ a        2      3 ⎟                     3                            \n",
       "a ⎠    ⎝         a      a  ⎠     27⋅d   9⋅b⋅c   b                             \n",
       "────────────────────────────── + ──── - ───── + ──                            \n",
       "    2                            2⋅a        2    3                            \n",
       "                                         2⋅a    a                             \n",
       "\n",
       "_________________________________________________________________________     \n",
       "        ____________________________________________                          \n",
       "       ╱                 3                        2                           \n",
       "      ╱      ⎛         2⎞    ⎛                  3⎞                            \n",
       "     ╱       ⎜  3⋅c   b ⎟    ⎜27⋅d   9⋅b⋅c   2⋅b ⎟                            \n",
       "    ╱    - 4⋅⎜- ─── + ──⎟  + ⎜──── - ───── + ────⎟                            \n",
       "   ╱         ⎜   a     2⎟    ⎜ a        2      3 ⎟                     3      \n",
       " ╲╱          ⎝        a ⎠    ⎝         a      a  ⎠     27⋅d   9⋅b⋅c   b       \n",
       " ─────────────────────────────────────────────────── + ──── - ───── + ──      \n",
       "                          2                            2⋅a        2    3      \n",
       "                                                               2⋅a    a      b\n",
       "───────────────────────────────────────────────────────────────────────── - ──\n",
       "                        3                                                   3⋅\n",
       "                                                                              \n",
       "                                                                              \n",
       "                                                                              \n",
       "                                                                              \n",
       "                                                                              \n",
       "                                                                              \n",
       "                                                                              \n",
       "                                                                              \n",
       "                                                                              \n",
       "                                                                              \n",
       "\n",
       "                                                                              \n",
       "                                                                              \n",
       "                                                                              \n",
       "                                                                              \n",
       "                                                                              \n",
       "                                                                              \n",
       "                                                           2                  \n",
       "                                                    3⋅c   b                   \n",
       "                                                  - ─── + ──                  \n",
       "                                                     a     2                  \n",
       "                                                          a                   \n",
       "─, - ─────────────────────────────────────────────────────────────────────────\n",
       "a                              _______________________________________________\n",
       "                              ╱        _______________________________________\n",
       "                             ╱        ╱                 3                     \n",
       "                            ╱        ╱      ⎛         2⎞    ⎛                 \n",
       "                           ╱        ╱       ⎜  3⋅c   b ⎟    ⎜27⋅d   9⋅b⋅c   2⋅\n",
       "                          ╱        ╱    - 4⋅⎜- ─── + ──⎟  + ⎜──── - ───── + ──\n",
       "                         ╱        ╱         ⎜   a     2⎟    ⎜ a        2      \n",
       "       ⎛  1   √3⋅ⅈ⎞     ╱       ╲╱          ⎝        a ⎠    ⎝         a      a\n",
       "     3⋅⎜- ─ + ────⎟⋅   ╱        ──────────────────────────────────────────────\n",
       "       ⎝  2    2  ⎠ 3 ╱                                  2                    \n",
       "                    ╲╱                                                        \n",
       "\n",
       "                                                     _________________________\n",
       "                                                    ╱        _________________\n",
       "                                                   ╱        ╱                 \n",
       "                                                  ╱        ╱      ⎛         2⎞\n",
       "                                                 ╱        ╱       ⎜  3⋅c   b ⎟\n",
       "                                                ╱        ╱    - 4⋅⎜- ─── + ──⎟\n",
       "                                               ╱        ╱         ⎜   a     2⎟\n",
       "                             ⎛  1   √3⋅ⅈ⎞     ╱       ╲╱          ⎝        a ⎠\n",
       "                             ⎜- ─ + ────⎟⋅   ╱        ────────────────────────\n",
       "                             ⎝  2    2  ⎠ 3 ╱                                 \n",
       "                                          ╲╱                                  \n",
       "────────────────────────── - ─────────────────────────────────────────────────\n",
       "__________________________                                                   3\n",
       "_____                                                                         \n",
       "   2                                                                          \n",
       " 3⎞                                                                           \n",
       "b ⎟                                                                           \n",
       "──⎟                                                                           \n",
       "3 ⎟                     3                                                     \n",
       "  ⎠     27⋅d   9⋅b⋅c   b                                                      \n",
       "───── + ──── - ───── + ──                                                     \n",
       "        2⋅a        2    3                                                     \n",
       "                2⋅a    a                                                      \n",
       "\n",
       "________________________________________________      ⎫\n",
       "___________________________                           ⎪\n",
       "3                        2                            ⎪\n",
       "    ⎛                  3⎞                             ⎪\n",
       "    ⎜27⋅d   9⋅b⋅c   2⋅b ⎟                             ⎪\n",
       "  + ⎜──── - ───── + ────⎟                             ⎪\n",
       "    ⎜ a        2      3 ⎟                     3       ⎪\n",
       "    ⎝         a      a  ⎠     27⋅d   9⋅b⋅c   b        ⎪\n",
       "─────────────────────────── + ──── - ───── + ──       ⎪\n",
       " 2                            2⋅a        2    3       ⎪\n",
       "                                      2⋅a    a      b ⎪\n",
       "──────────────────────────────────────────────── - ───⎬\n",
       "                                                   3⋅a⎪\n",
       "                                                      ⎪\n",
       "                                                      ⎪\n",
       "                                                      ⎪\n",
       "                                                      ⎪\n",
       "                                                      ⎪\n",
       "                                                      ⎪\n",
       "                                                      ⎪\n",
       "                                                      ⎪\n",
       "                                                      ⎪\n",
       "                                                      ⎭"
      ]
     },
     "execution_count": 73,
     "metadata": {},
     "output_type": "execute_result"
    }
   ],
   "source": [
    "solveset(a*x**3 + b*x**2 + c*x + d, x)"
   ]
  },
  {
   "cell_type": "markdown",
   "metadata": {},
   "source": [
    "# 求导数"
   ]
  },
  {
   "cell_type": "code",
   "execution_count": 78,
   "metadata": {},
   "outputs": [
    {
     "data": {
      "image/png": "[encoded data removed]",
      "text/latex": [
       "$\\displaystyle 8 \\left(2 \\left(\\tan^{2}{\\left(x \\right)} + 1\\right)^{2} \\tan{\\left(x \\right)} + \\left(\\tan^{2}{\\left(x \\right)} + 1\\right) \\tan^{3}{\\left(x \\right)} + \\sin^{2}{\\left(x \\right)} + 2 \\sin{\\left(x \\right)} \\cos{\\left(x \\right)} - \\cos^{2}{\\left(x \\right)}\\right)$"
      ],
      "text/plain": [
       "  ⎛               2                                                           \n",
       "  ⎜  ⎛   2       ⎞           ⎛   2       ⎞    3         2                     \n",
       "8⋅⎝2⋅⎝tan (x) + 1⎠ ⋅tan(x) + ⎝tan (x) + 1⎠⋅tan (x) + sin (x) + 2⋅sin(x)⋅cos(x)\n",
       "\n",
       "          ⎞\n",
       "      2   ⎟\n",
       " - cos (x)⎠"
      ]
     },
     "execution_count": 78,
     "metadata": {},
     "output_type": "execute_result"
    }
   ],
   "source": [
    "from sympy import sin, cos, tan\n",
    "diff(sin(x)**2+ sin(x)*cos(x)+tan(x),(x,4))"
   ]
  },
  {
   "cell_type": "markdown",
   "metadata": {},
   "source": [
    "# 求积分"
   ]
  },
  {
   "cell_type": "code",
   "execution_count": 80,
   "metadata": {},
   "outputs": [],
   "source": [
    "from sympy import integrate"
   ]
  },
  {
   "cell_type": "code",
   "execution_count": 82,
   "metadata": {},
   "outputs": [
    {
     "data": {
      "image/png": "[encoded data removed]",
      "text/latex": [
       "$\\displaystyle - \\log{\\left(\\cos{\\left(x \\right)} \\right)}$"
      ],
      "text/plain": [
       "-log(cos(x))"
      ]
     },
     "execution_count": 82,
     "metadata": {},
     "output_type": "execute_result"
    }
   ],
   "source": [
    "integrate(tan(x),x)"
   ]
  },
  {
   "cell_type": "code",
   "execution_count": 84,
   "metadata": {},
   "outputs": [
    {
     "data": {
      "image/png": "[encoded data removed]",
      "text/latex": [
       "$\\displaystyle - \\cos{\\left(x \\right)}$"
      ],
      "text/plain": [
       "-cos(x)"
      ]
     },
     "execution_count": 84,
     "metadata": {},
     "output_type": "execute_result"
    }
   ],
   "source": [
    "integrate(sin(x),x)"
   ]
  },
  {
   "cell_type": "markdown",
   "metadata": {},
   "source": [
    "# 求偏微分方程"
   ]
  },
  {
   "cell_type": "code",
   "execution_count": 85,
   "metadata": {},
   "outputs": [],
   "source": [
    "from sympy import Eq\n",
    "from sympy.solvers.pde import pdsolve"
   ]
  },
  {
   "cell_type": "code",
   "execution_count": 86,
   "metadata": {},
   "outputs": [],
   "source": [
    "u = f(x, y)\n",
    "ux = diff(u,x)\n",
    "uy = diff(u,y)"
   ]
  },
  {
   "cell_type": "code",
   "execution_count": 88,
   "metadata": {},
   "outputs": [
    {
     "data": {
      "image/png": "[encoded data removed]",
      "text/latex": [
       "$\\displaystyle \\left( \\frac{\\partial}{\\partial x} f{\\left(x,y \\right)}, \\  \\frac{\\partial}{\\partial y} f{\\left(x,y \\right)}\\right)$"
      ],
      "text/plain": [
       "⎛∂            ∂          ⎞\n",
       "⎜──(f(x, y)), ──(f(x, y))⎟\n",
       "⎝∂x           ∂y         ⎠"
      ]
     },
     "execution_count": 88,
     "metadata": {},
     "output_type": "execute_result"
    }
   ],
   "source": [
    "ux, uy"
   ]
  },
  {
   "cell_type": "code",
   "execution_count": 93,
   "metadata": {},
   "outputs": [],
   "source": [
    "eq = Eq(1+(2*(ux/u)+(3*(uy/u))),0)"
   ]
  },
  {
   "cell_type": "code",
   "execution_count": 94,
   "metadata": {},
   "outputs": [
    {
     "data": {
      "image/png": "[encoded data removed]",
      "text/latex": [
       "$\\displaystyle 1 + \\frac{2 \\frac{\\partial}{\\partial x} f{\\left(x,y \\right)}}{f{\\left(x,y \\right)}} + \\frac{3 \\frac{\\partial}{\\partial y} f{\\left(x,y \\right)}}{f{\\left(x,y \\right)}} = 0$"
      ],
      "text/plain": [
       "      ∂               ∂              \n",
       "    2⋅──(f(x, y))   3⋅──(f(x, y))    \n",
       "      ∂x              ∂y             \n",
       "1 + ───────────── + ───────────── = 0\n",
       "       f(x, y)         f(x, y)       "
      ]
     },
     "execution_count": 94,
     "metadata": {},
     "output_type": "execute_result"
    }
   ],
   "source": [
    "eq"
   ]
  },
  {
   "cell_type": "code",
   "execution_count": 95,
   "metadata": {},
   "outputs": [
    {
     "data": {
      "image/png": "[encoded data removed]",
      "text/latex": [
       "$\\displaystyle f{\\left(x,y \\right)} = F{\\left(3 x - 2 y \\right)} e^{- \\frac{2 x}{13} - \\frac{3 y}{13}}$"
      ],
      "text/plain": [
       "                          2⋅x   3⋅y\n",
       "                        - ─── - ───\n",
       "                           13    13\n",
       "f(x, y) = F(3⋅x - 2⋅y)⋅ℯ           "
      ]
     },
     "execution_count": 95,
     "metadata": {},
     "output_type": "execute_result"
    }
   ],
   "source": [
    "pdsolve(eq)"
   ]
  },
  {
   "cell_type": "code",
   "execution_count": 106,
   "metadata": {},
   "outputs": [],
   "source": [
    "from sympy.abc import *"
   ]
  },
  {
   "cell_type": "code",
   "execution_count": null,
   "metadata": {},
   "outputs": [],
   "source": []
  }
 ],
 "metadata": {
  "kernelspec": {
   "display_name": "Python 3",
   "language": "python",
   "name": "python3"
  },
  "language_info": {
   "codemirror_mode": {
    "name": "ipython",
    "version": 3
   },
   "file_extension": ".py",
   "mimetype": "text/x-python",
   "name": "python",
   "nbconvert_exporter": "python",
   "pygments_lexer": "ipython3",
   "version": "3.7.4"
  }
 },
 "nbformat": 4,
 "nbformat_minor": 4
}
